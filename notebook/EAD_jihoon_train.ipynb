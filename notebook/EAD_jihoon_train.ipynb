{
 "cells": [
  {
   "cell_type": "code",
   "execution_count": null,
   "metadata": {},
   "outputs": [],
   "source": [
    "import pandas as pd\n",
    "import numpy as np\n",
    "from tqdm import tqdm\n",
    "import matplotlib.pyplot as plt\n",
    "import seaborn as sns"
   ]
  },
  {
   "cell_type": "code",
   "execution_count": null,
   "metadata": {},
   "outputs": [],
   "source": [
    "directors_df = pd.read_csv('../data/train/directors.tsv', sep='\\t') # 감독 정보\n",
    "genres_df = pd.read_csv('../data/train/genres.tsv', sep='\\t') # 장르 정보\n",
    "titles_df = pd.read_csv('../data/train/titles.tsv', sep='\\t') # 영화 제목 정보\n",
    "writers_df = pd.read_csv('../data/train/writers.tsv', sep='\\t') # 각본가 정보\n",
    "years_df = pd.read_csv('../data/train/years.tsv', sep='\\t') # 개봉 연도 정보\n",
    "\n",
    "train_df = pd.read_csv('../data/train/train_ratings.csv') # 전체 학습 데이터"
   ]
  },
  {
   "cell_type": "code",
   "execution_count": null,
   "metadata": {},
   "outputs": [],
   "source": [
    "# 기본 정보 확인\n",
    "print(train_df.info())\n",
    "print(train_df.head())\n",
    "\n",
    "# 결측치 확인\n",
    "print(train_df.isnull().sum())\n",
    "\n",
    "# 중복 행 확인\n",
    "print(train_df[train_df.duplicated()])"
   ]
  },
  {
   "cell_type": "code",
   "execution_count": null,
   "metadata": {},
   "outputs": [],
   "source": [
    "# (user, item) 쌍 중복 확인\n",
    "duplicated_rows = train_df[train_df.duplicated(subset=['user', 'item'])]\n",
    "print(duplicated_rows)\n"
   ]
  },
  {
   "cell_type": "markdown",
   "metadata": {},
   "source": [
    "한 유저가 같은 영화를 두 번 이상 본 기록은 없다.\n",
    "-> 예측 시 본 영화 제외할 지 안 할 지"
   ]
  },
  {
   "cell_type": "code",
   "execution_count": null,
   "metadata": {},
   "outputs": [],
   "source": [
    "# time 컬럼의 최소값과 최대값\n",
    "min_time = train_df['time'].min()\n",
    "max_time = train_df['time'].max()\n",
    "\n",
    "print(f\"Minimum time: {min_time}\")\n",
    "print(f\"Maximum time: {max_time}\")"
   ]
  },
  {
   "cell_type": "code",
   "execution_count": null,
   "metadata": {},
   "outputs": [],
   "source": [
    "# 고유 유저 수\n",
    "unique_users = train_df['user'].nunique()\n",
    "print(f\"Unique users: {unique_users}\")\n",
    "\n",
    "# 영화별 시청한 유저 수\n",
    "items_counts = train_df['item'].value_counts() # 같은 사람이 여러 번 시청한 경우도 포함\n",
    "\n",
    "# 상위 10개 영화 정보 추출\n",
    "top_10_items = items_counts.head(10)\n",
    "top_10_items_df = top_10_items.reset_index()  # Series를 DataFrame으로 변환\n",
    "top_10_items_df.columns = ['item', 'user_count']  # 컬럼 이름 설정\n",
    "\n",
    "# titles_df와 병합하여 제목 추가\n",
    "top_10_items_with_titles = top_10_items_df.merge(titles_df, on='item', how='left')\n",
    "\n",
    "# 결과 출력\n",
    "print(top_10_items_with_titles[['item', 'title', 'user_count']])\n"
   ]
  },
  {
   "cell_type": "code",
   "execution_count": null,
   "metadata": {},
   "outputs": [],
   "source": [
    "user_movie_count = train_df['user'].value_counts()\n",
    "print(user_movie_count.describe())  # 사용자별 영화 시청 수의 통계\n",
    "print(user_movie_count.head(10))   # 상위 10명의 사용자\n",
    "\n",
    "# 시각화\n",
    "# Binwidth 설정\n",
    "binwidth = 10  # 각 bin의 크기\n",
    "bins = np.arange(0, user_movie_count.max() + binwidth, binwidth)  # 0부터 최대값까지 bin 생성\n",
    "\n",
    "# 히스토그램 생성\n",
    "plt.figure(figsize=(10, 6))\n",
    "user_movie_count.plot(kind='hist', bins=bins, color='skyblue')\n",
    "\n",
    "# 그래프 설정\n",
    "plt.title('Histogram with Binwidth = 10', fontsize=14)\n",
    "plt.xlabel('Number of Movies Watched', fontsize=12)\n",
    "plt.ylabel('Number of Users', fontsize=12)\n",
    "plt.grid(axis='y', linestyle='--', alpha=0.7)\n",
    "plt.tight_layout()\n",
    "plt.show()\n"
   ]
  },
  {
   "cell_type": "markdown",
   "metadata": {},
   "source": [
    "가장 적게 본 유저가 16개"
   ]
  },
  {
   "cell_type": "code",
   "execution_count": null,
   "metadata": {},
   "outputs": [],
   "source": [
    "# x <= 500 데이터 필터링\n",
    "filtered_user_movie_count = user_movie_count[user_movie_count <= 500]\n",
    "\n",
    "# Binwidth 설정\n",
    "binwidth = 1  # 각 bin의 크기\n",
    "bins = np.arange(0, filtered_user_movie_count.max() + binwidth, binwidth)  # 0부터 최대값까지 bin 생성\n",
    "\n",
    "# 히스토그램 생성\n",
    "plt.figure(figsize=(10, 6))\n",
    "filtered_user_movie_count.plot(kind='hist', bins=bins, color='skyblue')\n",
    "\n",
    "# 그래프 설정\n",
    "plt.title(f'Histogram with Binwidth = {binwidth} (x <= 500)', fontsize=14)\n",
    "plt.xlabel('Number of Movies Watched', fontsize=12)\n",
    "plt.ylabel('Number of Users', fontsize=12)\n",
    "plt.grid(axis='y', linestyle='--', alpha=0.7)\n",
    "plt.tight_layout()\n",
    "plt.show()\n"
   ]
  },
  {
   "cell_type": "code",
   "execution_count": null,
   "metadata": {},
   "outputs": [],
   "source": [
    "# datetime 칼럼 추가\n",
    "train_df['datetime'] = pd.to_datetime(train_df['time'], unit='s')\n",
    "\n",
    "# datetime에서 월 단위로 추출한 별도의 칼럼 추가\n",
    "train_df['month'] = train_df['datetime'].dt.to_period('M')  # 월 단위 추가\n",
    "\n",
    "# 월 단위 시청 기록 수\n",
    "monthly_distribution = train_df['month'].value_counts().sort_index()\n",
    "\n",
    "# 시각화\n",
    "plt.figure(figsize=(12, 6))\n",
    "monthly_distribution.plot(kind='line', color='coral')\n",
    "plt.title('Monthly Movie Watch Time Distribution', fontsize=14)\n",
    "plt.xlabel('Month', fontsize=12)\n",
    "plt.ylabel('Number of Watches', fontsize=12)\n",
    "plt.grid(axis='y', linestyle='--', alpha=0.7)\n",
    "plt.tight_layout()\n",
    "plt.show()\n"
   ]
  },
  {
   "cell_type": "code",
   "execution_count": null,
   "metadata": {},
   "outputs": [],
   "source": [
    "# 시청 기록 수 기준으로 내림차순 정렬\n",
    "monthly_distribution_sorted = monthly_distribution.sort_values(ascending=False)\n",
    "\n",
    "# 결과 출력\n",
    "print(monthly_distribution_sorted)"
   ]
  },
  {
   "cell_type": "code",
   "execution_count": null,
   "metadata": {},
   "outputs": [],
   "source": [
    "# 2008-10 데이터를 필터링\n",
    "filtered_items = train_df[train_df['month'] == '2008-10']['item']\n",
    "\n",
    "# 아이템별 시청 횟수 계산\n",
    "item_counts = filtered_items.value_counts().head(15)\n",
    "\n",
    "# 시청 횟수 상위 아이템을 DataFrame으로 변환\n",
    "item_counts_df = item_counts.reset_index()\n",
    "item_counts_df.columns = ['item', 'view_count']\n",
    "\n",
    "# 영화 제목 정보와 병합\n",
    "result = item_counts_df.merge(titles_df, on='item', how='left')\n",
    "\n",
    "# 결과 출력\n",
    "print(result[['item', 'title', 'view_count']])\n"
   ]
  },
  {
   "cell_type": "markdown",
   "metadata": {},
   "source": [
    "개봉한지 오래된 영화들의 시청 수도 상당히 높다."
   ]
  },
  {
   "cell_type": "code",
   "execution_count": null,
   "metadata": {},
   "outputs": [],
   "source": [
    "import matplotlib.pyplot as plt\n",
    "\n",
    "# datetime 칼럼 추가\n",
    "train_df['datetime'] = pd.to_datetime(train_df['time'], unit='s')\n",
    "\n",
    "# datetime에서 월 단위로 추출한 별도의 칼럼 추가\n",
    "train_df['month'] = train_df['datetime'].dt.to_period('M')  # 월 단위 추가\n",
    "\n",
    "# 월 단위 시청 기록 수\n",
    "monthly_distribution = train_df['month'].value_counts().sort_index()\n",
    "\n",
    "# 특정 item('2571')의 월별 시청 기록 추이 계산\n",
    "item_2571_distribution = (\n",
    "    train_df[train_df['item'] == 2571]\n",
    "    .groupby('month')\n",
    "    .size()\n",
    "    .sort_index()\n",
    ")\n",
    "\n",
    "# 시각화: 두 개의 y축 설정\n",
    "fig, ax1 = plt.subplots(figsize=(12, 6))\n",
    "\n",
    "# 첫 번째 y축 (전체 영화)\n",
    "ax1.plot(monthly_distribution.index.astype(str), monthly_distribution, color='coral', label='All Movies')\n",
    "ax1.set_xlabel('Month', fontsize=12)\n",
    "ax1.set_ylabel('All Movies Watches', fontsize=12, color='coral')\n",
    "ax1.tick_params(axis='y', labelcolor='coral')\n",
    "ax1.grid(axis='y', linestyle='--', alpha=0.7)\n",
    "\n",
    "# x축 눈금 위치와 회전 조정\n",
    "ax1.set_xticks(range(len(monthly_distribution.index)))\n",
    "ax1.set_xticklabels(monthly_distribution.index.astype(str), rotation=90, ha='right')\n",
    "\n",
    "# 두 번째 y축 (item 2571)\n",
    "ax2 = ax1.twinx()\n",
    "ax2.plot(item_2571_distribution.index.astype(str), item_2571_distribution, color='blue', label='Item 2571')\n",
    "ax2.set_ylabel('Item 2571 Watches', fontsize=12, color='blue')\n",
    "ax2.tick_params(axis='y', labelcolor='blue')\n",
    "\n",
    "# 제목 및 레이아웃 설정\n",
    "fig.suptitle('Monthly Movie Watch Time Distribution', fontsize=14)\n",
    "plt.tight_layout()\n",
    "plt.show()\n"
   ]
  },
  {
   "cell_type": "code",
   "execution_count": null,
   "metadata": {},
   "outputs": [],
   "source": [
    "import matplotlib.pyplot as plt\n",
    "\n",
    "# datetime 칼럼 추가\n",
    "train_df['datetime'] = pd.to_datetime(train_df['time'], unit='s')\n",
    "\n",
    "# datetime에서 월 단위로 추출한 별도의 칼럼 추가\n",
    "train_df['month'] = train_df['datetime'].dt.to_period('M')  # 월 단위 추가\n",
    "\n",
    "# 월 단위 시청 기록 수\n",
    "monthly_distribution = train_df['month'].value_counts().sort_index()\n",
    "\n",
    "# 비교할 아이템 목록\n",
    "items_to_plot = [2571, 2959, 296, 318, 356]\n",
    "colors = ['blue', 'green', 'red', 'orange', 'purple']\n",
    "\n",
    "# 특정 아이템의 월별 시청 기록 추이 계산\n",
    "item_distributions = {\n",
    "    item: train_df[train_df['item'] == item].groupby('month').size().sort_index()\n",
    "    for item in items_to_plot\n",
    "}\n",
    "\n",
    "# 영화 제목 가져오기\n",
    "titles = titles_df.set_index('item').loc[items_to_plot, 'title']\n",
    "\n",
    "# 시각화: 두 개의 y축 설정\n",
    "fig, ax1 = plt.subplots(figsize=(12, 6))\n",
    "\n",
    "# 첫 번째 y축 (전체 영화)\n",
    "ax1.plot(monthly_distribution.index.astype(str), monthly_distribution, color='coral', label='All Movies')\n",
    "ax1.set_xlabel('Month', fontsize=12)\n",
    "ax1.set_ylabel('All Movies Watches', fontsize=12, color='coral')\n",
    "ax1.tick_params(axis='y', labelcolor='coral')\n",
    "ax1.grid(axis='y', linestyle='--', alpha=0.7)\n",
    "\n",
    "# x축 눈금 회전\n",
    "ax1.set_xticks(range(len(monthly_distribution.index)))\n",
    "ax1.set_xticklabels(monthly_distribution.index.astype(str), rotation=90, ha='right')\n",
    "\n",
    "# 두 번째 y축 설정\n",
    "ax2 = ax1.twinx()\n",
    "\n",
    "# 각 아이템의 그래프 추가\n",
    "for item, color in zip(items_to_plot, colors):\n",
    "    ax2.plot(item_distributions[item].index.astype(str), item_distributions[item], label=titles[item], color=color)\n",
    "\n",
    "# y축 제거\n",
    "ax2.tick_params(axis='y', labelright=False)\n",
    "\n",
    "# 영화 이름을 그래프와 같은 색으로 표시\n",
    "for item, color in zip(items_to_plot, colors):\n",
    "    last_month = item_distributions[item].index[-1].strftime('%Y-%m')\n",
    "    last_value = item_distributions[item].iloc[-1]\n",
    "    ax2.text(len(monthly_distribution) - 1, last_value, titles[item], fontsize=10, color=color, ha='left')\n",
    "\n",
    "# 제목 및 레이아웃 설정\n",
    "fig.suptitle('Monthly Movie Watch Time Distribution', fontsize=14)\n",
    "plt.tight_layout()\n",
    "plt.show()\n"
   ]
  },
  {
   "cell_type": "code",
   "execution_count": null,
   "metadata": {},
   "outputs": [],
   "source": [
    "user_11_movies = train_df[train_df['user'] == 11].sort_values(by='time')\n",
    "print(user_11_movies)\n",
    "\n",
    "# 시각화: 특정 사용자의 시청 기록\n",
    "plt.figure(figsize=(12, 6))\n",
    "plt.plot(user_11_movies['datetime'], user_11_movies['item'], marker='o', linestyle='-', color='blue')\n",
    "plt.title('User 11 Watch History', fontsize=14)\n",
    "plt.xlabel('Time', fontsize=12)\n",
    "plt.ylabel('Movie ID', fontsize=12)\n",
    "plt.grid(axis='both', linestyle='--', alpha=0.7)\n",
    "plt.tight_layout()\n",
    "plt.show()\n"
   ]
  },
  {
   "cell_type": "markdown",
   "metadata": {},
   "source": [
    "시청한 영화가 한 번에 업데이트된다고 볼 수 있다. -> 시계열 정보 신뢰 가능?"
   ]
  }
 ],
 "metadata": {
  "kernelspec": {
   "display_name": "prac",
   "language": "python",
   "name": "python3"
  },
  "language_info": {
   "codemirror_mode": {
    "name": "ipython",
    "version": 3
   },
   "file_extension": ".py",
   "mimetype": "text/x-python",
   "name": "python",
   "nbconvert_exporter": "python",
   "pygments_lexer": "ipython3",
   "version": "3.9.20"
  }
 },
 "nbformat": 4,
 "nbformat_minor": 2
}
