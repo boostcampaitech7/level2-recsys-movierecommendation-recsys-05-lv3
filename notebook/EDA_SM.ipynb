{
 "cells": [
  {
   "cell_type": "code",
   "execution_count": 1,
   "metadata": {},
   "outputs": [],
   "source": [
    "import pandas as pd\n",
    "import re"
   ]
  },
  {
   "cell_type": "code",
   "execution_count": 11,
   "metadata": {},
   "outputs": [
    {
     "name": "stdout",
     "output_type": "stream",
     "text": [
      "<class 'pandas.core.frame.DataFrame'>\n",
      "RangeIndex: 15933 entries, 0 to 15932\n",
      "Data columns (total 2 columns):\n",
      " #   Column  Non-Null Count  Dtype \n",
      "---  ------  --------------  ----- \n",
      " 0   item    15933 non-null  int64 \n",
      " 1   genre   15933 non-null  object\n",
      "dtypes: int64(1), object(1)\n",
      "memory usage: 249.1+ KB\n"
     ]
    }
   ],
   "source": [
    "genres_df = pd.read_csv(\"../data/train/genres.tsv\", sep=\"\\t\")\n",
    "genres_df.info()"
   ]
  },
  {
   "cell_type": "code",
   "execution_count": 12,
   "metadata": {},
   "outputs": [
    {
     "name": "stdout",
     "output_type": "stream",
     "text": [
      "<class 'pandas.core.frame.DataFrame'>\n",
      "RangeIndex: 5905 entries, 0 to 5904\n",
      "Data columns (total 2 columns):\n",
      " #   Column    Non-Null Count  Dtype \n",
      "---  ------    --------------  ----- \n",
      " 0   item      5905 non-null   int64 \n",
      " 1   director  5905 non-null   object\n",
      "dtypes: int64(1), object(1)\n",
      "memory usage: 92.4+ KB\n"
     ]
    }
   ],
   "source": [
    "directors_df = pd.read_csv(\"../data/train/directors.tsv\", sep=\"\\t\")\n",
    "directors_df.info()"
   ]
  },
  {
   "cell_type": "code",
   "execution_count": 13,
   "metadata": {},
   "outputs": [
    {
     "name": "stdout",
     "output_type": "stream",
     "text": [
      "<class 'pandas.core.frame.DataFrame'>\n",
      "RangeIndex: 6807 entries, 0 to 6806\n",
      "Data columns (total 2 columns):\n",
      " #   Column  Non-Null Count  Dtype \n",
      "---  ------  --------------  ----- \n",
      " 0   item    6807 non-null   int64 \n",
      " 1   title   6807 non-null   object\n",
      "dtypes: int64(1), object(1)\n",
      "memory usage: 106.5+ KB\n"
     ]
    }
   ],
   "source": [
    "titles_df = pd.read_csv('../data/train/titles.tsv',sep='\\t')\n",
    "titles_df.info()"
   ]
  },
  {
   "cell_type": "code",
   "execution_count": 14,
   "metadata": {},
   "outputs": [
    {
     "name": "stdout",
     "output_type": "stream",
     "text": [
      "<class 'pandas.core.frame.DataFrame'>\n",
      "RangeIndex: 6799 entries, 0 to 6798\n",
      "Data columns (total 2 columns):\n",
      " #   Column  Non-Null Count  Dtype\n",
      "---  ------  --------------  -----\n",
      " 0   item    6799 non-null   int64\n",
      " 1   year    6799 non-null   int64\n",
      "dtypes: int64(2)\n",
      "memory usage: 106.4 KB\n"
     ]
    }
   ],
   "source": [
    "years_df = pd.read_csv('../data/train/years.tsv',sep='\\t')\n",
    "years_df.info()"
   ]
  },
  {
   "cell_type": "code",
   "execution_count": 15,
   "metadata": {},
   "outputs": [
    {
     "name": "stdout",
     "output_type": "stream",
     "text": [
      "<class 'pandas.core.frame.DataFrame'>\n",
      "RangeIndex: 11306 entries, 0 to 11305\n",
      "Data columns (total 2 columns):\n",
      " #   Column  Non-Null Count  Dtype \n",
      "---  ------  --------------  ----- \n",
      " 0   item    11306 non-null  int64 \n",
      " 1   writer  11306 non-null  object\n",
      "dtypes: int64(1), object(1)\n",
      "memory usage: 176.8+ KB\n"
     ]
    }
   ],
   "source": [
    "writers_df = pd.read_csv('../data/train/writers.tsv',sep='\\t')\n",
    "writers_df.info()"
   ]
  },
  {
   "cell_type": "code",
   "execution_count": 16,
   "metadata": {},
   "outputs": [
    {
     "name": "stdout",
     "output_type": "stream",
     "text": [
      "['Raiders of the Lost Ark (Indiana Jones and the Raiders of the Lost Ark) (1981)', 'Seven (a.k.a. Se7en) (1995)', \"Amelie (Fabuleux destin d'Amélie Poulain, Le) (2001)\", 'Twelve Monkeys (a.k.a. 12 Monkeys) (1995)', 'City of God (Cidade de Deus) (2002)', 'Léon: The Professional (a.k.a. The Professional) (Léon) (1994)', 'Crouching Tiger, Hidden Dragon (Wo hu cang long) (2000)', 'Ghostbusters (a.k.a. Ghost Busters) (1984)', \"Pan's Labyrinth (Laberinto del fauno, El) (2006)\", 'Spirited Away (Sen to Chihiro no kamikakushi) (2001)', 'Life Is Beautiful (La Vita è bella) (1997)', \"Harry Potter and the Sorcerer's Stone (a.k.a. Harry Potter and the Philosopher's Stone) (2001)\", 'Run Lola Run (Lola rennt) (1998)', 'Good, the Bad and the Ugly, The (Buono, il brutto, il cattivo, Il) (1966)', 'Dumb & Dumber (Dumb and Dumber) (1994)', 'Lives of Others, The (Das leben der Anderen) (2006)', 'Princess Mononoke (Mononoke-hime) (1997)', \"Howl's Moving Castle (Hauru no ugoku shiro) (2004)\", 'Seven Samurai (Shichinin no samurai) (1954)', '(500) Days of Summer (2009)', 'Hero (Ying xiong) (2002)', 'My Neighbor Totoro (Tonari no Totoro) (1988)', 'Boot, Das (Boat, The) (1981)', 'Downfall (Untergang, Der) (2004)', \"Amores Perros (Love's a Bitch) (2000)\", 'Battle Royale (Batoru rowaiaru) (2000)', 'Kung Fu Hustle (Gong fu) (2004)', 'Ghost in the Shell (Kôkaku kidôtai) (1995)', 'Motorcycle Diaries, The (Diarios de motocicleta) (2004)', 'House of Flying Daggers (Shi mian mai fu) (2004)', 'City of Lost Children, The (Cité des enfants perdus, La) (1995)', 'Road Warrior, The (Mad Max 2) (1981)', 'Cinema Paradiso (Nuovo cinema Paradiso) (1989)', \"Dracula (Bram Stoker's Dracula) (1992)\", 'Fistful of Dollars, A (Per un pugno di dollari) (1964)', 'Laputa: Castle in the Sky (Tenkû no shiro Rapyuta) (1986)', 'Nausicaä of the Valley of the Wind (Kaze no tani no Naushika) (1984)', 'For a Few Dollars More (Per qualche dollaro in più) (1965)', 'Let the Right One In (Låt den rätte komma in) (2008)', 'Evil Dead II (Dead by Dawn) (1987)', 'Femme Nikita, La (Nikita) (1990)', \"Once Upon a Time in the West (C'era una volta il West) (1968)\", 'Girl with the Dragon Tattoo, The (Män som hatar kvinnor) (2009)', 'Sunset Blvd. (a.k.a. Sunset Boulevard) (1950)', 'Rashomon (Rashômon) (1950)', 'And Your Mother Too (Y tu mamá también) (2001)', 'Grave of the Fireflies (Hotaru no haka) (1988)', 'M*A*S*H (a.k.a. MASH) (1970)', \"March of the Penguins (Marche de l'empereur, La) (2005)\", 'Name of the Rose, The (Name der Rose, Der) (1986)', \"Kiki's Delivery Service (Majo no takkyûbin) (1989)\", '101 Dalmatians (One Hundred and One Dalmatians) (1961)', 'Triplets of Belleville, The (Les triplettes de Belleville) (2003)', 'Talk to Her (Hable con Ella) (2002)', 'Three Colors: Blue (Trois couleurs: Bleu) (1993)', 'First Blood (Rambo: First Blood) (1982)', 'Three Colors: Red (Trois couleurs: Rouge) (1994)', 'Maltese Falcon, The (a.k.a. Dangerous Female) (1931)', 'All About My Mother (Todo sobre mi madre) (1999)', 'Science of Sleep, The (La science des rêves) (2006)', 'Cowboy Bebop: The Movie (Cowboy Bebop: Tengoku no Tobira) (2001)', 'Waking Ned Devine (a.k.a. Waking Ned) (1998)', 'Red Violin, The (Violon rouge, Le) (1998)', 'Seventh Seal, The (Sjunde inseglet, Det) (1957)', 'Postman, The (Postino, Il) (1994)', 'Maria Full of Grace (Maria, Llena eres de gracia) (2004)', 'Hoosiers (a.k.a. Best Shot) (1986)', 'Porco Rosso (Crimson Pig) (Kurenai no buta) (1992)', 'Infernal Affairs (Mou gaan dou) (2002)', 'Very Long Engagement, A (Un long dimanche de fiançailles) (2004)', 'Bicycle Thieves (a.k.a. The Bicycle Thief) (a.k.a. The Bicycle Thieves) (Ladri di biciclette) (1948)', 'Open Your Eyes (Abre los ojos) (1997)', 'Orphanage, The (Orfanato, El) (2007)', 'Diving Bell and the Butterfly, The (Scaphandre et le papillon, Le) (2007)', 'Three Colors: White (Trzy kolory: Bialy) (1994)', 'Spring, Summer, Fall, Winter... and Spring (Bom yeoreum gaeul gyeoul geurigo bom) (2003)', 'In the Mood For Love (Fa yeung nin wa) (2000)', '400 Blows, The (Les quatre cents coups) (1959)', 'Nosferatu (Nosferatu, eine Symphonie des Grauens) (1922)', 'Sea Inside, The (Mar adentro) (2004)', 'Ringu (Ring) (1998)', 'Shaolin Soccer (Siu lam juk kau) (2001)', 'Ponyo (Gake no ue no Ponyo) (2008)', 'Three Days of the Condor (3 Days of the Condor) (1975)', 'Dead Alive (Braindead) (1992)', 'Blind Swordsman: Zatoichi, The (Zatôichi) (2003)', 'Paprika (Papurika) (2006)', 'Bad Education (La mala educación) (2004)', 'Secret in Their Eyes, The (El secreto de sus ojos) (2009)', 'Wild Strawberries (Smultronstället) (1957)', 'Celebration, The (Festen) (1998)', '8 1/2 (8½) (1963)', '1984 (Nineteen Eighty-Four) (1984)', 'Battle of Algiers, The (La battaglia di Algeri) (1966)', 'Like Water for Chocolate (Como agua para chocolate) (1992)', 'Show Me Love (Fucking Åmål) (1998)', 'Solaris (Solyaris) (1972)', 'Counterfeiters, The (Die Fälscher) (2007)', 'Hate (Haine, La) (1995)', 'Breathless (À bout de souffle) (1960)', 'Hard-Boiled (Lat sau san taam) (1992)', '3-Iron (Bin-jip) (2004)', 'Wings of Desire (Himmel über Berlin, Der) (1987)', 'Ong-Bak: The Thai Warrior (Ong Bak) (2003)', 'Prophet, A (Un Prophète) (2009)', 'Lady Vengeance (Sympathy for Lady Vengeance) (Chinjeolhan geumjassi) (2005)', 'Cabinet of Dr. Caligari, The (Cabinet des Dr. Caligari., Das) (1920)', 'Aguirre: The Wrath of God (Aguirre, der Zorn Gottes) (1972)', 'Audition (Ôdishon) (1999)', 'Waltz with Bashir (Vals im Bashir) (2008)', 'Killer, The (Die xue shuang xiong) (1989)', 'Edukators, The (Die Fetten Jahre sind vorbei) (2004)', 'Black Cat, White Cat (Crna macka, beli macor) (1998)', 'Raise the Red Lantern (Da hong deng long gao gao gua) (1991)', 'Ghost in the Shell 2: Innocence (a.k.a. Innocence) (Inosensu) (2004)', 'Chungking Express (Chung Hing sam lam) (1994)', 'Eat Drink Man Woman (Yin shi nan nu) (1994)', 'Shall We Dance? (Shall We Dansu?) (1996)', 'Koyaanisqatsi (a.k.a. Koyaanisqatsi: Life Out of Balance) (1983)', 'Throne of Blood (Kumonosu jô) (1957)', \"Devil's Backbone, The (Espinazo del diablo, El) (2001)\", 'Man Without a Past, The (Mies vailla menneisyyttä) (2002)', 'Night Watch (Nochnoy dozor) (2004)', 'Diabolique (Les diaboliques) (1955)', 'Vanishing, The (Spoorloos) (1988)', 'Black Book (Zwartboek) (2006)', 'Hidden Fortress, The (Kakushi-toride no san-akunin) (1958)', 'Hidden (a.k.a. Cache) (Caché) (2005)', 'Drunken Master (Jui kuen) (1978)', '4 Months, 3 Weeks and 2 Days (4 luni, 3 saptamâni si 2 zile) (2007)', 'Lilya 4-Ever (Lilja 4-ever) (2002)', 'Barbarian Invasions, The (Les invasions barbares) (2003)', 'Blow-Up (Blowup) (1966)', 'Host, The (Gwoemul) (2006)', \"Buffalo '66 (a.k.a. Buffalo 66) (1998)\", 'Beauty and the Beast (La belle et la bête) (1946)', 'Lupin III: The Castle Of Cagliostro (Rupan sansei: Kariosutoro no shiro) (1979)', 'Head-On (Gegen die Wand) (2004)', 'Manon of the Spring (Manon des sources) (1986)', 'Timecrimes (Cronocrímenes, Los) (2007)', 'Brüno (Bruno) (2009)', 'Women on the Verge of a Nervous Breakdown (Mujeres al borde de un ataque de nervios) (1988)', \"Babette's Feast (Babettes gæstebud) (1987)\", 'Pier, The (Jetée, La) (1962)', 'Discreet Charm of the Bourgeoisie, The (Charme discret de la bourgeoisie, Le) (1972)', 'Tell No One (Ne le dis à personne) (2006)', 'Sanjuro (Tsubaki Sanjûrô) (1962)', 'Jules and Jim (Jules et Jim) (1961)', 'Sophie Scholl: The Final Days (Sophie Scholl - Die letzten Tage) (2005)', 'Fanny and Alexander (Fanny och Alexander) (1982)', 'Wages of Fear, The (Salaire de la peur, Le) (1953)', 'My Life as a Dog (Mitt liv som hund) (1985)', 'Samouraï, Le (Godson, The) (1967)', 'Central Station (Central do Brasil) (1998)', 'Separation, A (Jodaeiye Nader az Simin) (2011)', \"Passion of Joan of Arc, The (Passion de Jeanne d'Arc, La) (1928)\", 'Departures (Okuribito) (2008)', 'Memories of Murder (Salinui chueok) (2003)', 'Elite Squad: The Enemy Within (Tropa de Elite 2 - O Inimigo Agora É Outro) (2010)', 'Andalusian Dog, An (Chien andalou, Un) (1929)', 'Grand Illusion (La grande illusion) (1937)', 'Andrei Rublev (Andrey Rublyov) (1969)', 'Winged Migration (Peuple migrateur, Le) (2001)', 'Beauty of the Day (Belle de jour) (1967)', 'Fireworks (Hana-bi) (1997)', 'Double Life of Veronique, The (Double Vie de Véronique, La) (1991)', \"Microcosmos (Microcosmos: Le peuple de l'herbe) (1996)\", 'Tokyo Story (Tôkyô monogatari) (1953)', 'Lust, Caution (Se, jie) (2007)', 'Vie en Rose, La (Môme, La) (2007)', 'Rules of the Game, The (La règle du jeu) (1939)', 'Once Upon a Time in China (Wong Fei Hung) (1991)', 'Rififi (Du rififi chez les hommes) (1955)', 'High and Low (Tengoku to jigoku) (1963)', 'Christmas Carol, A (Scrooge) (1951)', \"Man Bites Dog (C'est arrivé près de chez vous) (1992)\", 'Together (Tillsammans) (2000)', 'Secret World of Arrietty, The (Kari-gurashi no Arietti) (2010)', 'Sydney (Hard Eight) (1996)', 'Tale of Two Sisters, A (Janghwa, Hongryeon) (2003)', 'Wedding Banquet, The (Xi yan) (1993)', 'Short Film About Killing, A (Krótki film o zabijaniu) (1988)', 'Steamboy (Suchîmubôi) (2004)', 'Farewell My Concubine (Ba wang bie ji) (1993)', 'Bride of Frankenstein, The (Bride of Frankenstein) (1935)', 'Sex and Lucia (Lucía y el sexo) (2001)', 'Return, The (Vozvrashcheniye) (2003)', 'Kolya (Kolja) (1996)', 'Scenes From a Marriage (Scener ur ett äktenskap) (1973)', 'Nobody Knows (Dare mo shiranai) (2004)', 'Winter War (Talvisota) (1989)', 'Headhunters (Hodejegerne) (2011)', 'Tenant, The (Locataire, Le) (1976)', 'Iron Monkey (Siu nin Wong Fei-hung ji: Tit Ma Lau) (1993)', 'Dinner Game, The (Dîner de cons, Le) (1998)', 'That Obscure Object of Desire (Cet obscur objet du désir) (1977)', 'Nights of Cabiria (Notti di Cabiria, Le) (1957)', 'Virgin Spring, The (Jungfrukällan) (1960)', 'Europa Europa (Hitlerjunge Salomon) (1990)', 'Decalogue, The (Dekalog) (1989)', 'Joyeux Noël (Merry Christmas) (2005)', 'Sonatine (Sonachine) (1993)', 'Last Tango in Paris (Ultimo tango a Parigi) (1972)', 'Nosferatu the Vampyre (Nosferatu: Phantom der Nacht) (1979)', 'Princess and the Warrior, The (Krieger und die Kaiserin, Der) (2000)', 'Harakiri (Seppuku) (1962)', 'Best of Youth, The (La meglio gioventù) (2003)', 'Curse of the Golden Flower (Man cheng jin dai huang jin jia) (2006)', 'High Tension (Haute tension) (Switchblade Romance) (2003)', 'Piano Teacher, The (La pianiste) (2001)', 'Exterminating Angel, The (Ángel exterminador, El) (1962)', 'Control (Kontroll) (2003)', 'Fallen Angels (Duo luo tian shi) (1995)', '13 Assassins (Jûsan-nin no shikaku) (2010)', 'Knife in the Water (Nóz w wodzie) (1962)', 'Band of Outsiders (Bande à part) (1964)', 'Come and See (Idi i smotri) (1985)', 'Red Beard (Akahige) (1965)', 'Cries and Whispers (Viskningar och rop) (1972)', 'Micmacs (Micmacs à tire-larigot) (2009)', 'Ace in the Hole (Big Carnival, The) (1951)', \"Avventura, L' (Adventure, The) (1960)\", 'Mirror, The (Zerkalo) (1975)', 'My Life in Pink (Ma vie en rose) (1997)', 'Millennium Actress (Sennen joyû) (2001)', 'Edge of Heaven, The (Auf der anderen Seite) (2007)', 'Cuckoo, The (Kukushka) (2002)', 'After the Wedding (Efter brylluppet) (2006)', 'Godzilla (Gojira) (1954)', 'Stray Dog (Nora inu) (1949)', 'Shoot the Piano Player (Tirez sur le pianiste) (1960)', 'Dark Water (Honogurai mizu no soko kara) (2002)', 'Man with the Movie Camera, The (Chelovek s kino-apparatom) (1929)', 'Mrs. Brown (a.k.a. Her Majesty, Mrs. Brown) (1997)', 'Dogtooth (Kynodontas) (2009)', 'Mon Oncle (My Uncle) (1958)', 'Tin Drum, The (Blechtrommel, Die) (1979)', 'Cercle Rouge, Le (Red Circle, The) (1970)', 'Through a Glass Darkly (Såsom i en spegel) (1961)', 'Deep Red (Profondo rosso) (1975)', 'Class, The (Entre les murs) (2008)', 'Live Flesh (Carne trémula) (1997)', 'Rome, Open City (a.k.a. Open City) (Roma, città aperta) (1945)', 'Children of Paradise (Les enfants du paradis) (1945)', \"Ivan's Childhood (a.k.a. My Name is Ivan) (Ivanovo detstvo) (1962)\", 'Night and Fog (Nuit et brouillard) (1955)', \"Illusionist, The (L'illusionniste) (2010)\", 'Children of Heaven, The (Bacheha-Ye Aseman) (1997)', \"Army of Shadows (L'armée des ombres) (1969)\", 'Conformist, The (Conformista, Il) (1970)', 'Happy Together (a.k.a. Buenos Aires Affair) (Chun gwong cha sit) (1997)', 'Police Story (Ging chaat goo si) (1985)', 'Ugetsu (Ugetsu monogatari) (1953)', 'Alphaville (Alphaville, une étrange aventure de Lemmy Caution) (1965)', 'Umbrellas of Cherbourg, The (Parapluies de Cherbourg, Les) (1964)', 'Red Balloon, The (Ballon rouge, Le) (1956)', \"M. Hulot’s Holiday (Mr. Hulot's Holiday) (Vacances de Monsieur Hulot, Les) (1953)\", 'Burnt by the Sun (Utomlyonnye solntsem) (1994)', \"Man Escaped, A (Un  condamné à mort s'est échappé ou Le vent souffle où il veut) (1956)\", 'Broken Embraces (Los abrazos rotos) (2009)', 'Gomorrah (Gomorra) (2008)', 'Last Life in the Universe (Ruang rak noi nid mahasan) (2003)', 'Nine to Five (a.k.a. 9 to 5) (1980)', 'I Saw the Devil (Akmareul boatda) (2010)', 'Winter Light (Nattvardsgästerna) (1963)', 'To Live (Huozhe) (1994)', 'Mostly Martha (Bella Martha) (2001)', 'Fantastic Planet, The (Planète sauvage, La) (1973)', 'Contempt (Mépris, Le) (1963)', \"Elevator to the Gallows (a.k.a. Frantic) (Ascenseur pour l'échafaud) (1958)\", 'Woman in the Dunes (Suna no onna) (1964)', 'Smiles of a Summer Night (Sommarnattens leende) (1955)', 'City of Men (Cidade dos Homens) (2007)', 'Red Cliff (Chi bi) (2008)', 'After Life (Wandafuru raifu) (1998)', 'Day for Night (La Nuit Américaine) (1973)', 'Silence, The (Tystnaden) (1963)', \"I've Loved You So Long (Il y a longtemps que je t'aime) (2008)\", 'Matter of Life and Death, A (Stairway to Heaven) (1946)', 'Legend, The (Legend of Fong Sai-Yuk, The) (Fong Sai Yuk) (1993)', 'Betty Blue (37°2 le matin) (1986)', 'Enigma of Kaspar Hauser, The (a.k.a. Mystery of Kaspar Hauser, The) (Jeder für sich und Gott Gegen Alle) (1974)', 'Nightwatch (Nattevagten) (1994)', 'Better Tomorrow, A (Ying hung boon sik) (1986)', 'Ali: Fear Eats the Soul (Angst essen Seele auf) (1974)', \"Block Party (a.k.a. Dave Chappelle's Block Party) (2005)\", 'Vivre sa vie: Film en douze tableaux (My Life to Live) (1962)', 'Autumn Sonata (Höstsonaten) (1978)', 'Play Time (a.k.a. Playtime) (1967)', 'Black Orpheus (Orfeu Negro) (1959)', 'Days of Being Wild (A Fei jingjyuhn) (1990)', 'Mother (Madeo) (2009)', '3 Women (Three Women) (1977)', 'Short Film About Love, A (Krótki film o milosci) (1988)', 'Song of the Little Road (Pather Panchali) (1955)', 'Thirteen Conversations About One Thing (a.k.a. 13 Conversations) (2001)', \"Beat That My Heart Skipped, The (battre mon coeur s'est arrêté, De) (2005)\", 'Chinese Ghost Story, A (Sinnui yauwan) (1987)', \"Child, The (L'enfant) (2005)\", 'Bus 174 (Ônibus 174) (2002)', 'Five Obstructions, The (Fem benspænd, De) (2003)', 'To Be and to Have (Être et avoir) (2002)', \"Antonia's Line (Antonia) (1995)\", 'Road Home, The (Wo de fu qin mu qin) (1999)', 'Zorba the Greek (Alexis Zorbas) (1964)', 'Trial, The (Procès, Le) (1962)', 'Visitor Q (Bizita Q) (2001)', 'Kwaidan (Kaidan) (1964)', 'Testament of Dr. Mabuse, The (Das Testament des Dr. Mabuse) (1933)', \"Eclisse, L' (Eclipse) (1962)\", 'Eyes Without a Face (Yeux sans visage, Les) (1959)', 'Summer Wars (Samâ wôzu) (2009)', 'Bagdad Cafe (Out of Rosenheim) (1987)', 'Blue Angel, The (Blaue Engel, Der) (1930)', 'Ashes and Diamonds (Popiól i diament) (1958)', 'Orpheus (Orphée) (1950)', 'Eye, The (Gin gwai) (Jian gui) (2002)', 'Time of the Gypsies (Dom za vesanje) (1989)', '1900 (Novecento) (1976)', 'Story of the Weeping Camel, The (Geschichte vom weinenden Kamel, Die) (2003)', 'Spirit of the Beehive, The (Espíritu de la colmena, El) (1973)', 'Great Train Robbery, The (a.k.a. First Great Train Robbery, The) (1979)', 'My Best Fiend (Mein liebster Feind) (1999)', 'Bad Sleep Well, The (Warui yatsu hodo yoku nemuru) (1960)', 'Happiness of the Katakuris, The (Katakuri-ke no kôfuku) (2001)', 'Girl on the Bridge, The (Fille sur le pont, La) (1999)', 'Sacrifice, The (Offret - Sacraficatio) (1986)', 'Sansho the Bailiff (Sanshô dayû) (1954)', 'Revolution Will Not Be Televised, The (a.k.a. Chavez: Inside the Coup) (2003)', \"Last Year at Marienbad (L'Année dernière à Marienbad) (1961)\", 'Macbeth (a.k.a. Tragedy of Macbeth, The) (1971)', 'Vitelloni, I (a.k.a. The Young and the Passionate) (1953)', 'World of Apu, The (Apur Sansar) (1959)', 'Triumph of the Will (Triumph des Willens) (1934)', 'Jesus of Montreal (Jésus de Montréal) (1989)', 'Juliet of the Spirits (Giulietta degli spiriti) (1965)', 'Marriage of Maria Braun, The (Ehe der Maria Braun, Die) (1979)', 'Leopard, The (Gattopardo, Il) (1963)', 'Alexander Nevsky (Aleksandr Nevskiy) (1938)', \"Baadasssss! (How to Get the Man's Foot Outta Your Ass) (2003)\", 'Sword of Doom, The (Dai-bosatsu tôge) (1966)', \"Divorce - Italian Style (Divorzio all'italiana) (1961)\", 'Young at Heart (a.k.a. Young@Heart) (2007)', 'Coco Before Chanel (Coco avant Chanel) (2009)', 'Corbeau, Le (Raven, The) (1943)', 'Fast Runner, The (Atanarjuat) (2001)', 'Woman Is a Woman, A (femme est une femme, Une) (1961)', 'Young and the Damned, The (Olvidados, Los) (1950)', \"Bear, The (Ours, L') (1988)\", 'Late Spring (Banshun) (1949)', 'Cranes Are Flying, The (Letyat zhuravli) (1957)', 'Cleo from 5 to 7 (Cléo de 5 à 7) (1962)', 'Night, The (Notte, La) (1960)', 'Last Laugh, The (Letzte Mann, Der) (1924)', 'Sunless (Sans Soleil) (1983)', \"Pandora's Box (Büchse der Pandora, Die) (1929)\", 'Closely Watched Trains (Ostre sledované vlaky) (1966)', 'I Stand Alone (Seul contre tous) (1998)', 'Weekend (a.k.a. Le Week-end) (Week End) (1967)', 'F for Fake (Vérités et mensonges) (1973)', 'Day of Wrath (Vredens dag) (1943)', 'Boss of It All, The (Direktøren for det hele) (2006)', \"Apartment, The (Appartement, L') (1996)\", \"My Father's Glory (La gloire de mon père) (1990)\", 'Forbidden Games (Jeux interdits) (1952)', \"My Mother's Castle (Château de ma mère, Le) (1990)\", 'Gun Crazy (a.k.a. Deadly Is the Female) (1949)', 'Son, The (Le fils) (2002)', 'Law of Desire (Ley del deseo, La) (1987)', 'Before the Rain (Pred dozhdot) (1994)', 'Stolen Kisses (Baisers volés) (1968)', 'Queen Margot (Reine Margot, La) (1994)', 'Shivers (They Came from Within) (1975)', \"Golden Age, The (Âge d'Or, L') (1930)\", 'Russian Ark (Russkiy Kovcheg) (2002)', 'Ordet (Word, The) (1955)', \"Scent of Green Papaya, The (Mùi du du xhan - L'odeur de la papaye verte) (1993)\", \"Man on the Train (Homme du train, L') (2002)\", 'Rocco and His Brothers (Rocco e i suoi fratelli) (1960)', 'Samurai I: Musashi Miyamoto (Miyamoto Musashi) (1954)', 'Floating Weeds (Ukigusa) (1959)', 'Green Butchers, The (Grønne slagtere, De) (2003)', 'American Friend, The (Amerikanische Freund, Der) (1977)', 'Read My Lips (Sur mes lèvres) (2001)', 'With a Friend Like Harry... (Harry, un ami qui vous veut du bien) (2000)', 'Shame (Skammen) (1968)', 'Magician, The (Ansiktet) (1958)', 'Sorrow and the Pity, The (Le chagrin et la pitié) (1969)', 'Brothers (Brødre) (2004)', 'Bullfighter, The (Matador) (1986)', 'Quest for Fire (Guerre du feu, La) (1981)', 'Magic Flute, The (Trollflöjten) (1975)', 'Moscow Does Not Believe in Tears (Moskva slezam ne verit) (1979)', 'Not One Less (Yi ge dou bu neng shao) (1999)', 'What Have I Done to Deserve This? (¿Qué he hecho yo para merecer esto!!) (1984)', 'Turtles Can Fly (Lakposhtha hâm parvaz mikonand) (2004)', \"Son's Room, The (Stanza del figlio, La) (2001)\", 'Phantom of Liberty, The (Fantôme de la liberté, Le) (1974)', 'Gospel According to St. Matthew, The (Vangelo secondo Matteo, Il) (1964)', 'Early Summer (Bakushû) (1951)', 'Earrings of Madame de..., The (Madame de...) (1953)', 'Mondays in the Sun (Lunes al sol, Los) (2002)', \"Taste of Cherry (Ta'm e guilass) (1997)\", \"Hairdresser's Husband, The (Le mari de la coiffeuse) (1990)\", 'Shower (Xizao) (1999)', \"Fellini's Roma (Roma) (1972)\", \"My Night At Maud's (Ma Nuit Chez Maud) (1969)\", 'Pelle the Conqueror (Pelle erobreren) (1987)', 'Story of Qiu Ju, The (Qiu Ju da guan si) (1992)', 'Summer with Monika (Sommaren med Monika) (1953)', 'Shop on Main Street, The (Obchod na korze) (1965)', 'In the Realm of the Senses (Ai no corrida) (1976)', 'Ashes of Time (Dung che sai duk) (1994)', 'Days of Glory (Indigènes) (2006)', \"Decline of the American Empire, The (Déclin de l'empire américain, Le) (1986)\", 'Caramel (Sukkar banat) (2007)', \"OSS 117: Cairo, Nest of Spies (OSS 117: Le Caire nid d'espions) (2006)\", 'All the Mornings of the World (Tous les matins du monde) (1991)', 'Look at Me (Comme une image) (2004)', 'Dreamlife of Angels, The (Vie rêvée des anges, La) (1998)', 'Veronika Voss (Sehnsucht der Veronika Voss, Die) (1982)', 'Zero de conduite (Zero for Conduct) (Zéro de conduite: Jeunes diables au collège) (1933)', 'Character (Karakter) (1997)', \"Diary of a Country Priest (Journal d'un curé de campagne) (1951)\", 'Unvanquished, The (Aparajito) (1957)', 'Great Silence, The (Grande silenzio, Il) (1969)', 'Blow-Out (La grande bouffe) (1973)', 'Gleaners & I, The (Les glaneurs et la glaneuse) (2000)', 'Murder on a Sunday Morning (Un coupable idéal) (2001)', 'Land and Freedom (Tierra y libertad) (1995)', 'Save the Green Planet! (Jigureul jikyeora!) (2003)', 'Red Sorghum (Hong gao liang) (1987)', 'Quai des Orfèvres (Jenny Lamour) (1947)', 'Henry V (Chronicle History of King Henry the Fift with His Battell Fought at Agincourt in France, The) (1944)', 'Hallam Foe (Mister Foe) (2007)', 'Taste of Others, The (Le goût des autres) (2000)', 'Color of Paradise, The (Rang-e khoda) (1999)', 'Nasty Girl, The (schreckliche Mädchen, Das) (1990)', 'Taboo (Gohatto) (1999)', 'Port of Shadows (Quai des brumes) (1938)', 'Alice (Neco z Alenky) (1988)', 'Hands Off the Loot (Touchez pas au grisbi) (1954)', 'Murmur of the Heart (Le souffle au coeur) (1971)', 'Open Hearts (Elsker dig for evigt) (2002)', 'Death in Venice (Morte a Venezia) (1971)', 'Ballad of a Soldier (Ballada o soldate) (1959)', 'I.O.U.S.A. (a.k.a. IOUSA) (2008)', 'Horror of Dracula (Dracula) (1958)', 'Soldier of Orange (a.k.a. Survival Run) (Soldaat van Oranje) (1977)', 'Werckmeister Harmonies (Werckmeister harmóniák) (2000)', 'Crime of Father Amaro, The (Crimen del padre Amaro, El) (2002)', 'Emperor and the Assassin, The (Jing ke ci qin wang) (1999)', 'Big Deal on Madonna Street (I Soliti Ignoti) (1958)', \"Beyond, The (E tu vivrai nel terrore - L'aldilà) (1981)\", 'Camera Buff (Amator) (1979)', 'Affair of Love, An (Liaison pornographique, Une) (1999)', 'Human Condition I, The (Ningen no joken I) (1959)', 'Blind Chance (Przypadek) (1981)', 'Wonderful, Horrible Life of Leni Riefenstahl, The (Macht der Bilder: Leni Riefenstahl, Die) (1993)', 'Loves of a Blonde (Lásky jedné plavovlásky) (1965)', 'Fat Girl (À ma soeur!) (2001)', \"Diary of a Chambermaid (Journal d'une femme de chambre, Le) (1964)\", \"Firemen's Ball, The (Horí, má panenko) (1967)\", 'I Am Cuba (Soy Cuba/Ya Kuba) (1964)', 'Monster, The (Mostro, Il) (1994)', 'Shooting Dogs (a.k.a. Beyond the Gates) (2005)', 'Red Desert (Deserto rosso, Il) (1964)', 'Official Story, The (La historia oficial) (1985)', 'Man and a Woman, A (Un homme et une femme) (1966)', 'Last Metro, The (Dernier métro, Le) (1980)', 'Vagabond (Sans toit ni loi) (1985)', 'Heart in Winter, A (Un coeur en hiver) (1992)', 'Of Gods and Men (Des hommes et des dieux) (2010)', 'Chimes at Midnight (Campanadas a medianoche) (1965)', 'À nous la liberté (Freedom for Us) (1931)', 'Kid With a Bike, The (Le gamin au vélo) (2011)', 'Investigation of a Citizen Above Suspicion (Indagine su un cittadino al di sopra di ogni sospetto) (1970)', 'Strawberry and Chocolate (Fresa y chocolate) (1993)', 'Lost Honor of Katharina Blum, The (Verlorene Ehre der Katharina Blum oder: Wie Gewalt entstehen und wohin sie führen kann, Die) (1975)', 'I Served the King of England (Obsluhoval jsem anglického krále) (2006)', 'Dr. Mabuse: The Gambler (Dr. Mabuse, der Spieler) (1922)', 'Garden of the Finzi-Continis, The (Giardino dei Finzi-Contini, Il) (1970)', 'Fall of the House of Usher, The (House of Usher) (1960)', 'Towelhead (a.k.a. Nothing is Private) (2007)', 'Tale of Ham and Passion, A (Jamón, Jamón) (1992)', 'Black Sunday (La maschera del demonio) (1960)', \"Time Out (L'emploi du temps) (2001)\", 'Lights in the Dusk (Laitakaupungin valot) (2006)', 'Element of Crime, The (Forbrydelsens Element) (1984)', 'Heartbeats (Les amours imaginaires) (2010)', 'Purple Noon (Plein soleil) (1960)', 'Witchfinder General (Conquerer Worm, The) (1968)', \"Mifune's Last Song (Mifunes sidste sang) (1999)\", \"Lorna's Silence (Le silence de Lorna) (2008)\", 'Othello (Tragedy of Othello: The Moor of Venice, The) (1952)', 'Curse of the Demon (Night of the Demon) (1957)', 'Prisoner of the Mountains (Kavkazsky plennik) (1996)', 'Inheritance, The (Arven) (2003)', 'Even the Rain (También la lluvia) (2010)', 'Italian, The (Italianetz) (2005)', 'Seven Beauties (Pasqualino Settebellezze) (1976)', 'Two Women (Ciociara, La) (1960)', 'Autumn Afternoon, An (Sanma no aji) (1962)', 'Man Facing Southeast (Hombre mirando al sudeste) (1986)', \"Love in the Afternoon (Chloe in the Afternoon)  (L'amour l'après-midi) (1972)\", 'Young Girls of Rochefort, The (Demoiselles de Rochefort, Les) (1967)', 'Wind Will Carry Us, The (Bad ma ra khahad bord) (1999)', 'Armour of God (Long xiong hu di) (1987)', 'Christmas Tale, A (Un conte de Noël) (2008)', 'Night Porter, The (Portiere di notte, Il) (1974)', 'White Balloon, The (Badkonake sefid) (1995)', 'Men in Black (a.k.a. MIB) (1997)', 'Independence Day (a.k.a. ID4) (1996)', 'Brotherhood of the Wolf (Pacte des loups, Le) (2001)', \"Paris, I Love You (Paris, je t'aime) (2006)\", 'Elite Squad (Tropa de Elite) (2007)', 'District 13 (Banlieue 13) (2004)', 'Girl Who Played with Fire, The (Flickan som lekte med elden) (2009)', 'Girl Who Leapt Through Time, The (Toki o kakeru shôjo) (2006)', 'Hunt, The (Jagten) (2012)', 'Twilight Samurai, The (Tasogare Seibei) (2002)', 'Wave, The (Welle, Die) (2008)', 'Evil (Ondskan) (2003)', 'White Ribbon, The (Das weiße Band) (2009)', 'Jin Roh: The Wolf Brigade (Jin-Rô) (1998)', 'Tae Guk Gi: The Brotherhood of War (Taegukgi hwinalrimyeo) (2004)', '3 Extremes (Three... Extremes) (Saam gaang yi) (2004)', 'Day Watch (Dnevnoy dozor) (2006)', \"Blue Is the Warmest Color (La vie d'Adèle) (2013)\", \"Hachiko: A Dog's Story (a.k.a. Hachi: A Dog's Tale) (2009)\", \"Band's Visit, The (Bikur Ha-Tizmoret) (2007)\", 'Holy Mountain, The (Montaña sagrada, La) (1973)', '101 Reykjavik (101 Reykjavík) (2000)', 'What the #$*! Do We Know!? (a.k.a. What the Bleep Do We Know!?) (2004)', 'Rare Exports: A Christmas Tale (Rare Exports) (2010)', 'Tie Me Up! Tie Me Down! (¡Átame!) (1990)', 'Italian for Beginners (Italiensk for begyndere) (2000)', 'Cemetery Man (Dellamorte Dellamore) (1994)', 'Impossible, The (Imposible, Lo) (2012)', 'Europa (Zentropa) (1991)', 'Duck, You Sucker (a.k.a. Fistful of Dynamite, A) (Giù la testa) (1971)', 'Trip to the Moon, A (Voyage dans la lune, Le) (1902)', 'Bothersome Man, The (Brysomme mannen, Den) (2006)', 'Chaser, The (Chugyeogja) (2008)', 'In a Better World (Hævnen) (2010)', 'Salo, or The 120 Days of Sodom (Salò o le 120 giornate di Sodoma) (1976)', 'Bittersweet Life, A (Dalkomhan insaeng) (2005)', 'Hour of the Wolf (Vargtimmen) (1968)', 'Noi the Albino (Nói albinói) (2003)', 'District 13: Ultimatum (Banlieue 13 - Ultimatum) (2009)', 'Man from Nowhere, The (Ajeossi) (2010)', 'Great Beauty, The (Grande Bellezza, La) (2013)', \"Rust and Bone (De rouille et d'os) (2012)\", 'You, the Living (Du levande) (2007)', 'Wind Rises, The (Kaze tachinu) (2013)', 'Kirikou and the Sorceress (Kirikou et la sorcière) (1998)', \"Lover, The (Amant, L') (1992)\", 'Drunken Angel (Yoidore tenshi) (1948)', 'Returner (Ritaanaa) (2002)', 'Flame and Citron (Flammen & Citronen) (2008)', 'Lone Wolf and Cub: Sword of Vengeance (Kozure Ôkami: Kowokashi udekashi tsukamatsuru) (1972)', 'Past, The (Le passé) (2013)', 'Good Morning (Ohayô) (1959)', 'Samurai Rebellion (Jôi-uchi: Hairyô tsuma shimatsu) (1967)', 'Royal Affair, A (Kongelig affære, En) (2012)', 'Wolf Children (Okami kodomo no ame to yuki) (2012)', 'Trou, Le (Hole, The) (Night Watch, The) (1960)', 'Lone Wolf and Cub: Baby Cart to Hades (Kozure Ôkami: Shinikazeni mukau ubaguruma) (1972)', 'Before the Fall (NaPolA - Elite für den Führer) (2004)', 'Match Factory Girl, The (Tulitikkutehtaan tyttö) (1990)', 'Passion of Anna, The (Passion, En) (1969)', \"I Am Love (Io sono l'amore) (2009)\", 'Simon of the Desert (Simón del desierto) (1965)', 'Lone Wolf and Cub: Baby Cart at the River Styx (Kozure Ôkami: Sanzu no kawa no ubaguruma) (1972)', 'Samurai II: Duel at Ichijoji Temple (Zoku Miyamoto Musashi: Ichijôji no kettô) (1955)', 'Samurai III: Duel on Ganryu Island (a.k.a. Bushido) (Miyamoto Musashi kanketsuhen: kettô Ganryûjima) (1956)', 'Lower Depths, The (Donzoko) (1957)', 'Devil and Daniel Webster, The (All That Money Can Buy) (1941)', 'Kamikaze Girls (Shimotsuma monogatari) (2004)', 'Lessons of Darkness (Lektionen in Finsternis) (1992)', 'Poetry (Shi) (2010)', 'Dumplings (Gaau ji) (2004)', 'Gloomy Sunday (Ein Lied von Liebe und Tod) (1999)', 'House (Hausu) (1977)', 'Still Walking (Aruitemo aruitemo) (2008)', 'Germany Year Zero (Germania anno zero) (Deutschland im Jahre Null) (1948)', 'From Up on Poppy Hill (Kokuriko-zaka kara) (2011)', \"Dodes'ka-den (Clickety-Clack) (1970)\", 'Flowers of War, The (Jin líng shí san chai) (2011)', '20 Feet from Stardom (Twenty Feet from Stardom) (2013)', 'Shadows in Paradise (Varjoja paratiisissa) (1986)', 'Blame it on Fidel! (La faute à Fidel!) (2006)', 'Bullhead (Rundskop) (2011)', 'Common Wealth (Comunidad, La) (2000)', 'Cherry Blossoms (Kirschblüten - Hanami) (2008)', \"Swept Away (Travolti da un insolito destino nell'azzurro mare d'Agosto) (1975)\", \"Small Change (Argent de poche, L') (1976)\", 'Everlasting Moments (Maria Larssons eviga ögonblick) (2008)', 'Force Majeure (Turist) (2014)', 'Bugs Bunny / Road Runner Movie, The (a.k.a. The Great American Chase) (1979)', \"Claire's Knee (Genou de Claire, Le) (1970)\", 'Alien³ (a.k.a. Alien 3) (1992)', 'Men in Black II (a.k.a. MIIB) (a.k.a. MIB 2) (2002)', 'Déjà Vu (Deja Vu) (2006)', 'League of Extraordinary Gentlemen, The (a.k.a. LXG) (2003)', 'How the Grinch Stole Christmas (a.k.a. The Grinch) (2000)', 'Ninja Scroll (Jûbei ninpûchô) (1995)', \"Mary Shelley's Frankenstein (Frankenstein) (1994)\", 'Ichi the Killer (Koroshiya 1) (2001)', 'Big Blue, The (Grand bleu, Le) (1988)', 'Appleseed (Appurushîdo) (2004)', \"Akira Kurosawa's Dreams (Dreams) (1990)\", 'Whisper of the Heart (Mimi wo sumaseba) (1995)', 'Shrek Forever After (a.k.a. Shrek: The Final Chapter) (2010)', 'Thesis (Tesis) (1996)', 'Neon Genesis Evangelion: The End of Evangelion (Shin seiki Evangelion Gekijô-ban: Air/Magokoro wo, kimi ni) (1997)', 'Thirteen Ghosts (a.k.a. Thir13en Ghosts) (2001)', 'Adventures of Milo and Otis, The (Koneko monogatari) (1986)', 'TMNT (Teenage Mutant Ninja Turtles) (2007)', 'Evangelion: 1.0 You Are (Not) Alone (Evangerion shin gekijôban: Jo) (2007)', \"I'm a Cyborg, But That's OK (Saibogujiman kwenchana) (2006)\", 'Simone (S1m0ne) (2002)', 'Tetsuo, the Ironman (Tetsuo) (1988)', 'Tekkonkinkreet (Tekkon kinkurîto) (2006)', 'Thirst (Bakjwi) (2009)', 'Suicide Club (Jisatsu saakuru) (2001)', 'Evangelion: 2.0 You Can (Not) Advance (Evangerion shin gekijôban: Ha) (2009)', \"Man Who Planted Trees, The (Homme qui plantait des arbres, L') (1987)\", 'Memories (Memorîzu) (1995)', 'Highlander III: The Sorcerer (a.k.a. Highlander: The Final Dimension) (1994)', 'Asterix & Obelix: Mission Cleopatra (Astérix & Obélix: Mission Cléopâtre) (2002)', \"Colour of Magic, The (Terry Pratchett's The Colour of Magic) (2008)\", \"Wes Craven's New Nightmare (Nightmare on Elm Street Part 7: Freddy's Finale, A) (1994)\", 'Halloween H20: 20 Years Later (Halloween 7: The Revenge of Laurie Strode) (1998)', 'Godzilla 2000 (Gojira ni-sen mireniamu) (1999)', 'Visitors, The (Visiteurs, Les) (1993)', 'Escaflowne: The Movie (Escaflowne) (2000)', \"Eight Crazy Nights (Adam Sandler's Eight Crazy Nights) (2002)\", \"Last Man on Earth, The (Ultimo uomo della Terra, L') (1964)\", \"Bride of Chucky (Child's Play 4) (1998)\", 'Zombie (a.k.a. Zombie 2: The Dead Are Among Us) (Zombi 2) (1979)', \"Hogfather (Terry Pratchett's Hogfather) (2006)\", 'Immortel (ad vitam) (Immortal) (2004)', 'Ringu 2 (Ring 2) (1999)', 'Sexmission (Seksmisja) (1984)', 'Wings of Honneamise (Ôritsu uchûgun Oneamisu no tsubasa) (1987)', 'Fullmetal Alchemist the Movie: Conqueror of Shamballa (Gekijô-ban hagane no renkinjutsushi: Shanbara wo yuku mono) (2005)', 'Final Destination, The (Final Destination 4) (Final Destination in 3-D, The) (2009)', 'Cat Soup (Nekojiru-so) (2001)', 'Heavyweights (Heavy Weights) (1995)', 'Highlander: Endgame (Highlander IV) (2000)', 'Phenomena (a.k.a. Creepers) (1985)', 'Jungle2Jungle (a.k.a. Jungle 2 Jungle) (1997)', 'Who Am I? (Wo shi shei) (1998)', \"Bird with the Crystal Plumage, The (Uccello dalle piume di cristallo, L') (1970)\", 'Wonderful Days (a.k.a. Sky Blue) (2003)', 'Cannibal! The Musical (a.k.a. Alferd Packer: The Musical) (1996)', 'Human Centipede, The (First Sequence) (2009)', 'Until the End of the World (Bis ans Ende der Welt) (1991)', 'Cry_Wolf (a.k.a. Cry Wolf) (2005)', 'Even Dwarfs Started Small (Auch Zwerge haben klein angefangen) (1971)', 'Halloween: The Curse of Michael Myers (Halloween 6: The Curse of Michael Myers) (1995)', 'Them (Ils) (2006)', 'Godzilla, King of the Monsters! (Kaijû-ô Gojira) (1956)', 'Patlabor: The Movie (Kidô keisatsu patorebâ: The Movie) (1989)', 'Crazies, The (a.k.a. Code Name: Trixie) (1973)', 'I Spit on Your Grave (Day of the Woman) (1978)', 'Blood of Heroes, The (Salute of the Jugger, The) (1989)', 'Tales from Earthsea (Gedo Senki) (2006)', \"Freddy's Dead: The Final Nightmare (Nightmare on Elm Street Part 6: Freddy's Dead, A) (1991)\", 'Antibodies (Antikörper) (2005)', 'Faraway, So Close (In weiter Ferne, so nah!) (1993)', \"Seed of Chucky (Child's Play 5) (2004)\", 'Black Sabbath (Tre volti della paura, I) (1963)', 'Only Yesterday (Omohide poro poro) (1991)', \"Mr. Toad's Wild Ride (a.k.a. The Wind in the Willows) (1996)\", 'Spriggan (Supurigan) (1998)', 'RocketMan (a.k.a. Rocket Man) (1997)', 'Final Conflict, The (a.k.a. Omen III: The Final Conflict) (1981)', 'Irreversible (Irréversible) (2002)', \"Spanish Apartment, The (L'auberge espagnole) (2002)\", 'Skin I Live In, The (La piel que habito) (2011)', 'Idiots, The (Idioterne) (1998)', 'Passenger, The (Professione: reporter) (1975)', 'Nowhere in Africa (Nirgendwo in Afrika) (2001)', 'Drifting Clouds (Kauas pilvet karkaavat) (1996)', 'Priceless (Hors de prix) (2006)', '36th Chamber of Shaolin, The (Shao Lin san shi liu fang) (Master Killer) (1978)', 'Songs From the Second Floor (Sånger från andra våningen) (2000)', 'Bread and Tulips (Pane e tulipani) (2000)', 'Intact (Intacto) (2001)', 'Brother (Brat) (1997)', 'Little Otik (Otesánek) (2000)', 'Fulltime Killer (Chuen jik sat sau) (2001)', 'Ugly, Dirty and Bad (Brutti sporchi e cattivi) (1976)', 'Armour of God II: Operation Condor (Operation Condor) (Fei ying gai wak) (1991)', 'Gozu (Gokudô kyôfu dai-gekijô: Gozu) (2003)', \"Inside (À l'intérieur) (2007)\", 'Confessions (Kokuhaku) (2010)', 'Broken Wings (Knafayim Shvurot) (2002)', 'Shanghai Triad (Yao a yao yao dao waipo qiao) (1995)', 'All About Lily Chou-Chou (Riri Shushu no subete) (2001)', \"22 Bullets (L'immortel) (2010)\", 'Time (Shi gan) (2006)', 'Duck Season (Temporada de patos) (2004)', 'Code Unknown (Code inconnu: Récit incomplet de divers voyages) (2000)', 'Crazy Stranger, The (Gadjo Dilo) (1997)', 'Time of the Wolf, The (Le temps du loup) (2003)', 'About Elly (Darbareye Elly) (2009)', 'Machinist, The (Maquinista, El) (2004)', 'Professional, The (Le professionnel) (1981)', \"Christmas Vacation (National Lampoon's Christmas Vacation) (1989)\", 'Rumble in the Bronx (Hont faan kui) (1995)', 'Legend of Drunken Master, The (Jui kuen II) (1994)', \"Jet Li's Fearless (Huo Yuan Jia) (2006)\", 'Unleashed (Danny the Dog) (2005)', 'Sympathy for Mr. Vengeance (Boksuneun naui geot) (2002)', 'Rambo (Rambo 4) (2008)', 'Cat Returns, The (Neko no ongaeshi) (2002)', 'Vampire Hunter D: Bloodlust (Banpaia hantâ D) (2000)', 'American Wedding (American Pie 3) (2003)', 'Fist of Legend (Jing wu ying xiong) (1994)', 'Fast and the Furious: Tokyo Drift, The (Fast and the Furious 3, The) (2006)', \"European Vacation (aka National Lampoon's European Vacation) (1985)\", 'Fast & Furious (Fast and the Furious 4, The) (2009)', 'Fast Five (Fast and the Furious 5, The) (2011)', 'First Strike (Police Story 4: First Strike) (Ging chaat goo si 4: Ji gaan daan yam mo) (1996)', 'Troll Hunter, The (Trolljegeren) (2010)', 'American Pie Presents: Band Camp (American Pie 4: Band Camp) (2005)', 'Protector, The (a.k.a. Warrior King) (Tom yum goong) (2005)', 'Way of the Dragon, The (a.k.a. Return of the Dragon) (Meng long guo jiang) (1972)', 'Big Boss, The (Fists of Fury) (Tang shan da xiong) (1971)', 'Dead Snow (Død snø) (2009)', 'Good, the Bad, the Weird, The (Joheunnom nabbeunnom isanghannom) (2008)', 'Fist of Fury (Chinese Connection, The) (Jing wu men) (1972)', 'Supercop (Police Story 3: Supercop) (Jing cha gu shi III: Chao ji jing cha) (1992)', 'Once Upon a Time in China II (Wong Fei-hung Ji Yi: Naam yi dong ji keung) (1992)', \"Loaded Weapon 1 (National Lampoon's Loaded Weapon 1) (1993)\", 'American Reunion (American Pie 4) (2012)', 'Secret of My Succe$s, The (a.k.a. The Secret of My Success) (1987)', 'Mr. Nice Guy (Yat goh ho yan) (1997)', 'American Pie Presents Beta House (American Pie 6: Beta House) (2007)', 'Once Upon a Time in China III (Wong Fei-hung tsi sam: Siwong tsangba) (1993)', 'Piranha (Piranha 3D) (2010)', 'Godzilla vs. Mothra (Mosura tai Gojira) (1964)', \"Project A ('A' gai waak) (1983)\", 'Tai Chi Master (Twin Warriors) (Tai ji: Zhang San Feng) (1993)', \"Bon Voyage, Charlie Brown (and Don't Come Back!) (1980)\", 'Police Story 2 (Ging chaat goo si juk jaap) (1988)', 'Two Brothers (Deux frères) (2004)', 'Nine Queens (Nueve reinas) (2000)', 'Joint Security Area (Gongdong gyeongbi guyeok JSA) (2000)', 'Crimson Rivers, The (Rivières pourpres, Les) (2000)', 'My Name Is Nobody (Il Mio nome è Nessuno) (1973)', 'Son of the Bride (Hijo de la novia, El) (2001)', 'Return of Martin Guerre, The (Retour de Martin Guerre, Le) (1982)', 'Lady Snowblood (Shurayukihime) (1973)', \"Snake in the Eagle's Shadow (Se ying diu sau) (1978)\", 'Infernal Affairs 2 (Mou gaan dou II) (2003)', 'Musa the Warrior (Musa) (2001)', 'Master of the Flying Guillotine (Du bi quan wang da po xue di zi) (1975)', 'Once a Thief (Zong heng si hai) (1991)', 'Lone Wolf and Cub: Baby Cart in Peril (Kozure Ôkami: Oya no kokoro ko no kokoro) (1972)', 'Attack the Gas Station! (Juyuso seubgyuksageun) (1999)', 'Bride Wore Black, The (La mariée était en noir) (1968)', 'Das Experiment (Experiment, The) (2001)', 'Boy in the Striped Pajamas, The (Boy in the Striped Pyjamas, The) (2008)', 'Boat That Rocked, The (a.k.a. Pirate Radio) (2009)', \"Adam's Apples (Adams æbler) (2005)\", 'Cell 211 (Celda 211) (2009)', 'Kikujiro (Kikujirô no natsu) (1999)', 'Kingdom, The (Riget) (1994)', 'Fawlty Towers (1975-1979)', 'Lovers of the Arctic Circle, The (Los Amantes del Círculo Polar) (1998)', 'Kingdom II, The (Riget II) (1997)', 'Seventh Continent, The (Der siebente Kontinent) (1989)', 'Town Called Panic, A (Panique au village) (2009)', 'Class, The (Klass) (2007)', 'My Voyage to Italy (Il mio viaggio in Italia) (1999)', 'Life is a Miracle (Zivot je cudo) (2004)', \"Ocean's Eleven (a.k.a. Ocean's 11) (1960)\", 'Inglorious Bastards (Quel maledetto treno blindato) (1978)', \"Legend of 1900, The (a.k.a. The Legend of the Pianist on the Ocean) (Leggenda del pianista sull'oceano) (1998)\", \"I'm Not Scared (Io non ho paura) (2003)\", 'He Loves Me... He Loves Me Not (À la folie... pas du tout) (2002)', 'Perfect Crime, The (Crimen Ferpecto) (Ferpect Crime) (2004)', 'Pulse (Kairo) (2001)', 'Memory of a Killer, The (Zaak Alzheimer, De) (2003)', 'Anatomy (Anatomie) (2000)', \"Crimson Rivers 2: Angels of the Apocalypse (Rivières pourpres II - Les anges de l'apocalypse, Les) (2004)\", 'Pure Formality, A (Pura formalità, Una) (1994)', 'Method, The (Método, El) (2005)', \"Fermat's Room (La habitación de Fermat) (2007)\", 'Green Street Hooligans (a.k.a. Hooligans) (2005)', \"Girl Who Kicked the Hornet's Nest, The (Luftslottet som sprängdes) (2009)\", 'Men in Black III (M.III.B.) (M.I.B.³) (2012)', \"Mesrine: Killer Instinct (L'instinct de mort) (2008)\", 'Sessions, The (Surrogate, The) (2012)', 'Oceans (Océans) (2009)', 'Celeste and Jesse Forever (Celeste & Jesse Forever) (2012)', 'Out of the Furnace (Dust to Dust) (Low Dweller, The) (2013)', 'Damage (Fatale) (1992)', 'Chorus, The (Choristes, Les) (2004)', 'Saving Silverman (Evil Woman) (2001)', \"Rory O'Shea Was Here (Inside I'm Dancing) (2004)\", 'Bound by Honor (a.k.a. Blood In, Blood Out) (1993)', 'Goal! The Dream Begins (Goal!) (2005)', 'Seducing Doctor Lewis (Grande séduction, La) (2003)', 'Young People Fucking (a.k.a. YPF) (2007)', 'Innocent Voices (Voces inocentes) (2004)', 'Fast & Furious 6 (Fast and the Furious 6, The) (2013)', 'Certified Copy (Copie conforme) (2010)', 'Oslo, August 31st (Oslo, 31. august) (2011)', 'Kitchen Stories (Salmer fra kjøkkenet) (2003)', 'Robot Carnival (Roboto kânibauru) (1987)', 'Closet, The (Placard, Le) (2001)', \"Mesrine: Public Enemy #1 (L'ennemi public n°1) (2008)\", 'Steam of Life (Miesten vuoro) (2010)', 'Dark Blue World (Tmavomodrý svet) (2001)', 'Kummeli Goldrush (Kummeli kultakuume) (1997)', 'Unknown Soldier, The (Tuntematon sotilas) (1985)', 'Mother of Mine (Äideistä parhain) (2005)', \"Love Me If You Dare (Jeux d'enfants) (2003)\", 'My Sassy Girl (Yeopgijeogin geunyeo) (2001)', \"Welcome to the Sticks (Bienvenue chez les Ch'tis) (2008)\", 'In July (Im Juli) (2000)', \"Happenstance (Battement d'ailes du papillon, Le) (2001)\", 'Flower of My Secret, The (La flor de mi secreto) (1995)', 'Fond Kiss, A (Ae Fond Kiss...) (2004)', 'Intimate Strangers (Confidences trop intimes) (2004)', 'Together (Han ni Zai Yiki) (2002)', 'Samaritan Girl (Samaria) (2004)', 'Santa Claus Is a Stinker (Le Père Noël est une ordure) (1982)', 'Divided We Fall (Musíme si pomáhat) (2000)', 'Unknown Soldier, The (Tuntematon sotilas) (1955)', 'Monsieur Ibrahim (Monsieur Ibrahim et les fleurs du Coran) (2003)', 'Samurai Fiction (SF: Episode One) (1998)', 'Isle, The (Seom) (2000)', 'Frozen Land (Paha maa) (2005)', 'Ambush (Rukajärven tie) (1999)', \"Himalaya (Himalaya - l'enfance d'un chef) (1999)\", 'High Heels (Tacones lejanos) (1991)', 'Lovers on the Bridge, The (Amants du Pont-Neuf, Les) (1991)', \"As If I Didn't Exist (Elina - Som om jag inte fanns) (2002)\", 'Page Turner, The (Tourneuse de pages, La) (2006)', 'Popular Music (Populärmusik från Vittula) (2004)', 'Pom Poko (a.k.a. Raccoon War, The) (Heisei tanuki gassen pompoko) (1994)', \"Agatha Christie's 'Ten Little Indians' (Ten Little Indians) (And Then There Were None) (1965)\", 'Big Bang Theory, The (2007-)', '2 Fast 2 Furious (Fast and the Furious 2, The) (2003)', 'Under the Same Moon (Misma luna, La) (2007)', 'Summer Storm (Sommersturm) (2004)', 'As it is in Heaven (Så som i himmelen) (2004)', 'Ax, The (couperet, Le) (2005)', 'Butterfly (La lengua de las mariposas) (1999)', 'DarkBlueAlmostBlack (Azuloscurocasinegro) (2006)', 'Serbian Film, A (Srpski film) (2010)', 'Irony of Fate, or Enjoy Your Bath! (Ironiya sudby, ili S legkim parom!) (1975)', 'Bad Guy (Nabbeun namja) (2001)', 'Facing Windows (Finestra di fronte, La) (2003)', 'Beijing Bicycle (Shiqi sui de dan che) (2001)', \"Last Kiss, The (Ultimo bacio, L') (2001)\", 'Red Cliff Part II (Chi Bi Xia: Jue Zhan Tian Xia) (2009)', 'Art of Negative Thinking, The (Kunsten å tenke negativt) (2006)', '36 Quai des Orfèvres (Department 36) (2004)', 'Best Offer, The (Migliore offerta, La) (2013)', 'Ready to Wear (Pret-A-Porter) (1994)', 'Arn: The Knight Templar (Arn - Tempelriddaren) (2007)', 'Riki-Oh: The Story of Ricky (Lik Wong) (1991)', 'Gigantic (A Tale of Two Johns) (2002)', 'After You (Après vous...) (2003)', 'Babies (Bébé(s)) (2010)', 'Victory (a.k.a. Escape to Victory) (1981)', 'Russian Dolls (Les poupées russes) (2005)', 'Tunnel, The (Tunnel, Der) (2001)', 'Anne of Green Gables: The Sequel (a.k.a. Anne of Avonlea) (1987)', 'Valentin (Valentín) (2002)', \"Herod's Law (Ley de Herodes, La) (2000)\", '5 Centimeters per Second (Byôsoku 5 senchimêtoru) (2007)', 'Heart of a Dog (Sobachye serdtse) (1988)', 'Voices of a Distant Star (Hoshi no koe) (2003)', 'Teddy Bear (Mis) (1981)', \"Vegas Vacation (National Lampoon's Las Vegas Vacation) (1997)\", 'Castaway on the Moon (Kimssi pyoryugi) (2009)', 'Greatest Movie Ever Sold, The (POM Wonderful Presents: The Greatest Movie Ever Sold) (2011)', 'In China They Eat Dogs (I Kina spiser de hunde) (1999)', 'Flickering Lights (Blinkende lygter) (2000)', 'Day of the Beast, The (Día de la Bestia, El) (1995)', 'Violent Cop (Sono otoko, kyôbô ni tsuki) (1989)', 'Point Blank (À bout portant) (2010)', 'Just Another Love Story (Kærlighed på film) (2007)', 'Man Who Copied, The (Homem Que Copiava, O) (2003)', 'Neon Genesis Evangelion: Death & Rebirth (Shin seiki Evangelion Gekijô-ban: Shito shinsei) (1997)', 'Blow Dry (a.k.a. Never Better) (2001)', 'North Face (Nordwand) (2008)', '187 (One Eight Seven) (1997)', '9 1/2 Weeks (Nine 1/2 Weeks) (1986)', 'King of Masks, The (Bian Lian) (1996)', 'Valet, The (La doublure) (2006)', \"Heartbreaker (L'Arnacoeur) (2010)\", 'My Best Friend (Mon meilleur ami) (2006)', 'Tiger and the Snow, The (La tigre e la neve) (2005)', 'Christiane F. (a.k.a. We Children from Bahnhof Zoo) (Christiane F. - Wir Kinder vom Bahnhof Zoo) (1981)', 'Ong-Bak 2: The Beginning (Ong Bak 2) (2008)', 'Thick as Thieves (a.k.a. Code, The) (2009)', 'Gentlemen of Fortune (Dzhentlmeny udachi) (1972)', 'Rabbit Without Ears (Keinohrhasen) (2007)', 'Ruby & Quentin (Tais-toi!) (2003)', 'American Pie Presents The Naked Mile (American Pie 5: The Naked Mile) (2006)', 'American Pie Presents: The Book of Love (American Pie 7: The Book of Love) (2009)']\n"
     ]
    }
   ],
   "source": [
    "non_numeric_titles = [\n",
    "    title for title in titles_df['title']\n",
    "    if re.search(r'\\((.*[^\\d].*)\\)', title)  # 숫자만으로 이루어지지 않은 내용을 찾음\n",
    "]\n",
    "\n",
    "# 결과 출력\n",
    "print(non_numeric_titles)"
   ]
  },
  {
   "cell_type": "code",
   "execution_count": 17,
   "metadata": {},
   "outputs": [],
   "source": [
    "# 50912 앤솔로지 영화"
   ]
  },
  {
   "cell_type": "code",
   "execution_count": 18,
   "metadata": {},
   "outputs": [],
   "source": [
    "import matplotlib.pyplot as plt"
   ]
  },
  {
   "cell_type": "code",
   "execution_count": 19,
   "metadata": {},
   "outputs": [],
   "source": [
    "item_writer = writers_df.groupby('item')['writer'].apply(list).reset_index()"
   ]
  },
  {
   "cell_type": "code",
   "execution_count": 20,
   "metadata": {},
   "outputs": [],
   "source": [
    "item_director = directors_df.groupby('item')['director'].apply(list).reset_index()"
   ]
  },
  {
   "cell_type": "code",
   "execution_count": 21,
   "metadata": {},
   "outputs": [],
   "source": [
    "item_genre = genres_df.groupby('item')['genre'].apply(list).reset_index()"
   ]
  },
  {
   "cell_type": "code",
   "execution_count": 22,
   "metadata": {},
   "outputs": [],
   "source": [
    "train = pd.read_csv('../data/train/train_ratings.csv')"
   ]
  },
  {
   "cell_type": "code",
   "execution_count": 23,
   "metadata": {},
   "outputs": [
    {
     "data": {
      "text/html": [
       "<div>\n",
       "<style scoped>\n",
       "    .dataframe tbody tr th:only-of-type {\n",
       "        vertical-align: middle;\n",
       "    }\n",
       "\n",
       "    .dataframe tbody tr th {\n",
       "        vertical-align: top;\n",
       "    }\n",
       "\n",
       "    .dataframe thead th {\n",
       "        text-align: right;\n",
       "    }\n",
       "</style>\n",
       "<table border=\"1\" class=\"dataframe\">\n",
       "  <thead>\n",
       "    <tr style=\"text-align: right;\">\n",
       "      <th></th>\n",
       "      <th>user</th>\n",
       "      <th>item</th>\n",
       "      <th>time</th>\n",
       "    </tr>\n",
       "  </thead>\n",
       "  <tbody>\n",
       "    <tr>\n",
       "      <th>0</th>\n",
       "      <td>11</td>\n",
       "      <td>4643</td>\n",
       "      <td>1230782529</td>\n",
       "    </tr>\n",
       "    <tr>\n",
       "      <th>1</th>\n",
       "      <td>11</td>\n",
       "      <td>170</td>\n",
       "      <td>1230782534</td>\n",
       "    </tr>\n",
       "    <tr>\n",
       "      <th>2</th>\n",
       "      <td>11</td>\n",
       "      <td>531</td>\n",
       "      <td>1230782539</td>\n",
       "    </tr>\n",
       "    <tr>\n",
       "      <th>3</th>\n",
       "      <td>11</td>\n",
       "      <td>616</td>\n",
       "      <td>1230782542</td>\n",
       "    </tr>\n",
       "    <tr>\n",
       "      <th>4</th>\n",
       "      <td>11</td>\n",
       "      <td>2140</td>\n",
       "      <td>1230782563</td>\n",
       "    </tr>\n",
       "    <tr>\n",
       "      <th>...</th>\n",
       "      <td>...</td>\n",
       "      <td>...</td>\n",
       "      <td>...</td>\n",
       "    </tr>\n",
       "    <tr>\n",
       "      <th>5154466</th>\n",
       "      <td>138493</td>\n",
       "      <td>44022</td>\n",
       "      <td>1260209449</td>\n",
       "    </tr>\n",
       "    <tr>\n",
       "      <th>5154467</th>\n",
       "      <td>138493</td>\n",
       "      <td>4958</td>\n",
       "      <td>1260209482</td>\n",
       "    </tr>\n",
       "    <tr>\n",
       "      <th>5154468</th>\n",
       "      <td>138493</td>\n",
       "      <td>68319</td>\n",
       "      <td>1260209720</td>\n",
       "    </tr>\n",
       "    <tr>\n",
       "      <th>5154469</th>\n",
       "      <td>138493</td>\n",
       "      <td>40819</td>\n",
       "      <td>1260209726</td>\n",
       "    </tr>\n",
       "    <tr>\n",
       "      <th>5154470</th>\n",
       "      <td>138493</td>\n",
       "      <td>27311</td>\n",
       "      <td>1260209807</td>\n",
       "    </tr>\n",
       "  </tbody>\n",
       "</table>\n",
       "<p>5154471 rows × 3 columns</p>\n",
       "</div>"
      ],
      "text/plain": [
       "           user   item        time\n",
       "0            11   4643  1230782529\n",
       "1            11    170  1230782534\n",
       "2            11    531  1230782539\n",
       "3            11    616  1230782542\n",
       "4            11   2140  1230782563\n",
       "...         ...    ...         ...\n",
       "5154466  138493  44022  1260209449\n",
       "5154467  138493   4958  1260209482\n",
       "5154468  138493  68319  1260209720\n",
       "5154469  138493  40819  1260209726\n",
       "5154470  138493  27311  1260209807\n",
       "\n",
       "[5154471 rows x 3 columns]"
      ]
     },
     "execution_count": 23,
     "metadata": {},
     "output_type": "execute_result"
    }
   ],
   "source": [
    "train"
   ]
  },
  {
   "cell_type": "code",
   "execution_count": 24,
   "metadata": {},
   "outputs": [],
   "source": [
    "import time"
   ]
  },
  {
   "cell_type": "code",
   "execution_count": 25,
   "metadata": {},
   "outputs": [],
   "source": [
    "unix_time = 1230782529 # some random timestamp from dataset\n",
    "converted_time = time.strftime('%Y-%m-%d %H:%M:%S', time.localtime(unix_time))"
   ]
  },
  {
   "cell_type": "code",
   "execution_count": 26,
   "metadata": {},
   "outputs": [],
   "source": [
    "train['time']= train['time'].apply(\n",
    "    lambda x: time.strftime('%Y-%m-%d %H:%M:%S', time.localtime(x))\n",
    ")"
   ]
  },
  {
   "cell_type": "code",
   "execution_count": 27,
   "metadata": {},
   "outputs": [],
   "source": [
    "df = pd.merge(pd.merge(pd.merge(pd.merge(pd.merge(train,titles_df,on='item',how='left'),years_df,on='item',how='left'),item_genre,on='item',how='left'),item_director,on='item',how='left'),item_writer,on='item',how='left')"
   ]
  },
  {
   "cell_type": "code",
   "execution_count": 28,
   "metadata": {},
   "outputs": [
    {
     "data": {
      "text/plain": [
       "user\n",
       "8405      2912\n",
       "54465     1980\n",
       "24219     1842\n",
       "32514     1830\n",
       "91349     1795\n",
       "          ... \n",
       "11211       32\n",
       "128756      28\n",
       "105578      22\n",
       "68606       19\n",
       "53188       16\n",
       "Name: count, Length: 31360, dtype: int64"
      ]
     },
     "execution_count": 28,
     "metadata": {},
     "output_type": "execute_result"
    }
   ],
   "source": [
    "train['user'].value_counts()"
   ]
  },
  {
   "cell_type": "code",
   "execution_count": 29,
   "metadata": {},
   "outputs": [
    {
     "data": {
      "text/plain": [
       "(array([2.7635e+04, 3.0300e+03, 5.1900e+02, 1.2000e+02, 3.3000e+01,\n",
       "        1.6000e+01, 6.0000e+00, 0.0000e+00, 0.0000e+00, 1.0000e+00]),\n",
       " array([  16. ,  305.6,  595.2,  884.8, 1174.4, 1464. , 1753.6, 2043.2,\n",
       "        2332.8, 2622.4, 2912. ]),\n",
       " <BarContainer object of 10 artists>)"
      ]
     },
     "execution_count": 29,
     "metadata": {},
     "output_type": "execute_result"
    },
    {
     "data": {
      "image/png": "[encoded data removed]",
      "text/plain": [
       "<Figure size 640x480 with 1 Axes>"
      ]
     },
     "metadata": {},
     "output_type": "display_data"
    }
   ],
   "source": [
    "plt.hist(train['user'].value_counts().values)"
   ]
  },
  {
   "cell_type": "code",
   "execution_count": 30,
   "metadata": {},
   "outputs": [
    {
     "data": {
      "text/html": [
       "<div>\n",
       "<style scoped>\n",
       "    .dataframe tbody tr th:only-of-type {\n",
       "        vertical-align: middle;\n",
       "    }\n",
       "\n",
       "    .dataframe tbody tr th {\n",
       "        vertical-align: top;\n",
       "    }\n",
       "\n",
       "    .dataframe thead th {\n",
       "        text-align: right;\n",
       "    }\n",
       "</style>\n",
       "<table border=\"1\" class=\"dataframe\">\n",
       "  <thead>\n",
       "    <tr style=\"text-align: right;\">\n",
       "      <th></th>\n",
       "      <th>user</th>\n",
       "      <th>item</th>\n",
       "      <th>time</th>\n",
       "      <th>title</th>\n",
       "      <th>year</th>\n",
       "      <th>genre</th>\n",
       "      <th>director</th>\n",
       "      <th>writer</th>\n",
       "    </tr>\n",
       "  </thead>\n",
       "  <tbody>\n",
       "    <tr>\n",
       "      <th>315136</th>\n",
       "      <td>8405</td>\n",
       "      <td>1252</td>\n",
       "      <td>2006-10-10 06:41:32</td>\n",
       "      <td>Chinatown (1974)</td>\n",
       "      <td>1974.0</td>\n",
       "      <td>[Crime, Film-Noir, Mystery, Thriller]</td>\n",
       "      <td>[nm0000591]</td>\n",
       "      <td>[nm0000591, nm0001801]</td>\n",
       "    </tr>\n",
       "    <tr>\n",
       "      <th>315137</th>\n",
       "      <td>8405</td>\n",
       "      <td>1278</td>\n",
       "      <td>2006-10-10 06:41:44</td>\n",
       "      <td>Young Frankenstein (1974)</td>\n",
       "      <td>1974.0</td>\n",
       "      <td>[Comedy, Fantasy]</td>\n",
       "      <td>[nm0000316]</td>\n",
       "      <td>[nm0000316, nm0000698, nm0791217]</td>\n",
       "    </tr>\n",
       "    <tr>\n",
       "      <th>315138</th>\n",
       "      <td>8405</td>\n",
       "      <td>2599</td>\n",
       "      <td>2006-10-10 06:43:40</td>\n",
       "      <td>Election (1999)</td>\n",
       "      <td>1999.0</td>\n",
       "      <td>[Comedy]</td>\n",
       "      <td>[nm0668247]</td>\n",
       "      <td>[nm0668247, nm0674909, nm0852591]</td>\n",
       "    </tr>\n",
       "    <tr>\n",
       "      <th>315139</th>\n",
       "      <td>8405</td>\n",
       "      <td>3408</td>\n",
       "      <td>2006-10-10 06:44:18</td>\n",
       "      <td>Erin Brockovich (2000)</td>\n",
       "      <td>2000.0</td>\n",
       "      <td>[Drama]</td>\n",
       "      <td>[nm0001752]</td>\n",
       "      <td>[nm0335666]</td>\n",
       "    </tr>\n",
       "    <tr>\n",
       "      <th>315140</th>\n",
       "      <td>8405</td>\n",
       "      <td>2268</td>\n",
       "      <td>2006-10-10 06:44:58</td>\n",
       "      <td>Few Good Men, A (1992)</td>\n",
       "      <td>1992.0</td>\n",
       "      <td>[Crime, Drama, Thriller]</td>\n",
       "      <td>[nm0001661]</td>\n",
       "      <td>[nm0815070]</td>\n",
       "    </tr>\n",
       "    <tr>\n",
       "      <th>...</th>\n",
       "      <td>...</td>\n",
       "      <td>...</td>\n",
       "      <td>...</td>\n",
       "      <td>...</td>\n",
       "      <td>...</td>\n",
       "      <td>...</td>\n",
       "      <td>...</td>\n",
       "      <td>...</td>\n",
       "    </tr>\n",
       "    <tr>\n",
       "      <th>318043</th>\n",
       "      <td>8405</td>\n",
       "      <td>1967</td>\n",
       "      <td>2012-05-07 03:14:10</td>\n",
       "      <td>Labyrinth (1986)</td>\n",
       "      <td>1986.0</td>\n",
       "      <td>[Adventure, Fantasy, Musical]</td>\n",
       "      <td>[nm0001345]</td>\n",
       "      <td>[nm0001345, nm0001402]</td>\n",
       "    </tr>\n",
       "    <tr>\n",
       "      <th>318044</th>\n",
       "      <td>8405</td>\n",
       "      <td>2966</td>\n",
       "      <td>2012-08-05 06:08:58</td>\n",
       "      <td>Straight Story, The (1999)</td>\n",
       "      <td>1999.0</td>\n",
       "      <td>[Adventure, Drama]</td>\n",
       "      <td>[nm0000186]</td>\n",
       "      <td>NaN</td>\n",
       "    </tr>\n",
       "    <tr>\n",
       "      <th>318045</th>\n",
       "      <td>8405</td>\n",
       "      <td>356</td>\n",
       "      <td>2012-08-06 02:33:42</td>\n",
       "      <td>Forrest Gump (1994)</td>\n",
       "      <td>1994.0</td>\n",
       "      <td>[Comedy, Drama, Romance, War]</td>\n",
       "      <td>[nm0000709]</td>\n",
       "      <td>[nm0744839]</td>\n",
       "    </tr>\n",
       "    <tr>\n",
       "      <th>318046</th>\n",
       "      <td>8405</td>\n",
       "      <td>69685</td>\n",
       "      <td>2013-01-28 06:49:20</td>\n",
       "      <td>Daria: Is It College Yet? (2002)</td>\n",
       "      <td>2002.0</td>\n",
       "      <td>[Animation, Comedy]</td>\n",
       "      <td>[nm0228327]</td>\n",
       "      <td>[nm0251550, nm0630437]</td>\n",
       "    </tr>\n",
       "    <tr>\n",
       "      <th>318047</th>\n",
       "      <td>8405</td>\n",
       "      <td>26547</td>\n",
       "      <td>2014-07-08 10:05:26</td>\n",
       "      <td>Police Story (Ging chaat goo si) (1985)</td>\n",
       "      <td>1985.0</td>\n",
       "      <td>[Action, Comedy, Crime, Thriller]</td>\n",
       "      <td>[nm0000329]</td>\n",
       "      <td>[nm0000329, nm0849282]</td>\n",
       "    </tr>\n",
       "  </tbody>\n",
       "</table>\n",
       "<p>2912 rows × 8 columns</p>\n",
       "</div>"
      ],
      "text/plain": [
       "        user   item                 time  \\\n",
       "315136  8405   1252  2006-10-10 06:41:32   \n",
       "315137  8405   1278  2006-10-10 06:41:44   \n",
       "315138  8405   2599  2006-10-10 06:43:40   \n",
       "315139  8405   3408  2006-10-10 06:44:18   \n",
       "315140  8405   2268  2006-10-10 06:44:58   \n",
       "...      ...    ...                  ...   \n",
       "318043  8405   1967  2012-05-07 03:14:10   \n",
       "318044  8405   2966  2012-08-05 06:08:58   \n",
       "318045  8405    356  2012-08-06 02:33:42   \n",
       "318046  8405  69685  2013-01-28 06:49:20   \n",
       "318047  8405  26547  2014-07-08 10:05:26   \n",
       "\n",
       "                                          title    year  \\\n",
       "315136                         Chinatown (1974)  1974.0   \n",
       "315137                Young Frankenstein (1974)  1974.0   \n",
       "315138                          Election (1999)  1999.0   \n",
       "315139                   Erin Brockovich (2000)  2000.0   \n",
       "315140                   Few Good Men, A (1992)  1992.0   \n",
       "...                                         ...     ...   \n",
       "318043                         Labyrinth (1986)  1986.0   \n",
       "318044               Straight Story, The (1999)  1999.0   \n",
       "318045                      Forrest Gump (1994)  1994.0   \n",
       "318046         Daria: Is It College Yet? (2002)  2002.0   \n",
       "318047  Police Story (Ging chaat goo si) (1985)  1985.0   \n",
       "\n",
       "                                        genre     director  \\\n",
       "315136  [Crime, Film-Noir, Mystery, Thriller]  [nm0000591]   \n",
       "315137                      [Comedy, Fantasy]  [nm0000316]   \n",
       "315138                               [Comedy]  [nm0668247]   \n",
       "315139                                [Drama]  [nm0001752]   \n",
       "315140               [Crime, Drama, Thriller]  [nm0001661]   \n",
       "...                                       ...          ...   \n",
       "318043          [Adventure, Fantasy, Musical]  [nm0001345]   \n",
       "318044                     [Adventure, Drama]  [nm0000186]   \n",
       "318045          [Comedy, Drama, Romance, War]  [nm0000709]   \n",
       "318046                    [Animation, Comedy]  [nm0228327]   \n",
       "318047      [Action, Comedy, Crime, Thriller]  [nm0000329]   \n",
       "\n",
       "                                   writer  \n",
       "315136             [nm0000591, nm0001801]  \n",
       "315137  [nm0000316, nm0000698, nm0791217]  \n",
       "315138  [nm0668247, nm0674909, nm0852591]  \n",
       "315139                        [nm0335666]  \n",
       "315140                        [nm0815070]  \n",
       "...                                   ...  \n",
       "318043             [nm0001345, nm0001402]  \n",
       "318044                                NaN  \n",
       "318045                        [nm0744839]  \n",
       "318046             [nm0251550, nm0630437]  \n",
       "318047             [nm0000329, nm0849282]  \n",
       "\n",
       "[2912 rows x 8 columns]"
      ]
     },
     "execution_count": 30,
     "metadata": {},
     "output_type": "execute_result"
    }
   ],
   "source": [
    "df[df['user']==8405]"
   ]
  },
  {
   "cell_type": "code",
   "execution_count": 31,
   "metadata": {},
   "outputs": [],
   "source": [
    "data = pd.to_datetime(df['time'])"
   ]
  },
  {
   "cell_type": "code",
   "execution_count": 32,
   "metadata": {},
   "outputs": [
    {
     "data": {
      "text/plain": [
       "[<matplotlib.lines.Line2D at 0x7f971e4d9030>]"
      ]
     },
     "execution_count": 32,
     "metadata": {},
     "output_type": "execute_result"
    },
    {
     "data": {
      "image/png": "[encoded data removed]",
      "text/plain": [
       "<Figure size 640x480 with 1 Axes>"
      ]
     },
     "metadata": {},
     "output_type": "display_data"
    }
   ],
   "source": [
    "\n",
    "plt.plot(data.dt.date.value_counts().sort_index())"
   ]
  },
  {
   "cell_type": "code",
   "execution_count": 33,
   "metadata": {},
   "outputs": [],
   "source": [
    "test = pd.merge(train,genres_df,on='item',how='left')"
   ]
  },
  {
   "cell_type": "code",
   "execution_count": 34,
   "metadata": {},
   "outputs": [],
   "source": [
    "a = pd.DataFrame(test['genre'].value_counts())"
   ]
  },
  {
   "cell_type": "code",
   "execution_count": 35,
   "metadata": {},
   "outputs": [],
   "source": [
    "b = pd.DataFrame(genres_df['genre'].value_counts())"
   ]
  },
  {
   "cell_type": "code",
   "execution_count": 36,
   "metadata": {},
   "outputs": [],
   "source": [
    "a['t'] =b['count']\n",
    "a['r'] = a['count']/ a['t']"
   ]
  },
  {
   "cell_type": "code",
   "execution_count": 37,
   "metadata": {},
   "outputs": [],
   "source": [
    "top10_movie = train['item'].value_counts()[:10].index"
   ]
  },
  {
   "cell_type": "code",
   "execution_count": 38,
   "metadata": {},
   "outputs": [
    {
     "data": {
      "text/html": [
       "<div>\n",
       "<style scoped>\n",
       "    .dataframe tbody tr th:only-of-type {\n",
       "        vertical-align: middle;\n",
       "    }\n",
       "\n",
       "    .dataframe tbody tr th {\n",
       "        vertical-align: top;\n",
       "    }\n",
       "\n",
       "    .dataframe thead th {\n",
       "        text-align: right;\n",
       "    }\n",
       "</style>\n",
       "<table border=\"1\" class=\"dataframe\">\n",
       "  <thead>\n",
       "    <tr style=\"text-align: right;\">\n",
       "      <th></th>\n",
       "      <th>item</th>\n",
       "      <th>title</th>\n",
       "    </tr>\n",
       "  </thead>\n",
       "  <tbody>\n",
       "    <tr>\n",
       "      <th>0</th>\n",
       "      <td>318</td>\n",
       "      <td>Shawshank Redemption, The (1994)</td>\n",
       "    </tr>\n",
       "    <tr>\n",
       "      <th>1</th>\n",
       "      <td>2571</td>\n",
       "      <td>Matrix, The (1999)</td>\n",
       "    </tr>\n",
       "    <tr>\n",
       "      <th>2</th>\n",
       "      <td>2959</td>\n",
       "      <td>Fight Club (1999)</td>\n",
       "    </tr>\n",
       "    <tr>\n",
       "      <th>3</th>\n",
       "      <td>296</td>\n",
       "      <td>Pulp Fiction (1994)</td>\n",
       "    </tr>\n",
       "    <tr>\n",
       "      <th>4</th>\n",
       "      <td>356</td>\n",
       "      <td>Forrest Gump (1994)</td>\n",
       "    </tr>\n",
       "    <tr>\n",
       "      <th>5</th>\n",
       "      <td>4993</td>\n",
       "      <td>Lord of the Rings: The Fellowship of the Ring,...</td>\n",
       "    </tr>\n",
       "    <tr>\n",
       "      <th>6</th>\n",
       "      <td>7153</td>\n",
       "      <td>Lord of the Rings: The Return of the King, The...</td>\n",
       "    </tr>\n",
       "    <tr>\n",
       "      <th>7</th>\n",
       "      <td>5952</td>\n",
       "      <td>Lord of the Rings: The Two Towers, The (2002)</td>\n",
       "    </tr>\n",
       "    <tr>\n",
       "      <th>8</th>\n",
       "      <td>593</td>\n",
       "      <td>Silence of the Lambs, The (1991)</td>\n",
       "    </tr>\n",
       "    <tr>\n",
       "      <th>9</th>\n",
       "      <td>2858</td>\n",
       "      <td>American Beauty (1999)</td>\n",
       "    </tr>\n",
       "  </tbody>\n",
       "</table>\n",
       "</div>"
      ],
      "text/plain": [
       "   item                                              title\n",
       "0   318                   Shawshank Redemption, The (1994)\n",
       "1  2571                                 Matrix, The (1999)\n",
       "2  2959                                  Fight Club (1999)\n",
       "3   296                                Pulp Fiction (1994)\n",
       "4   356                                Forrest Gump (1994)\n",
       "5  4993  Lord of the Rings: The Fellowship of the Ring,...\n",
       "6  7153  Lord of the Rings: The Return of the King, The...\n",
       "7  5952      Lord of the Rings: The Two Towers, The (2002)\n",
       "8   593                   Silence of the Lambs, The (1991)\n",
       "9  2858                             American Beauty (1999)"
      ]
     },
     "execution_count": 38,
     "metadata": {},
     "output_type": "execute_result"
    }
   ],
   "source": [
    "titles_df[titles_df['item'].isin(top10_movie)]"
   ]
  },
  {
   "cell_type": "code",
   "execution_count": 39,
   "metadata": {},
   "outputs": [
    {
     "name": "stdout",
     "output_type": "stream",
     "text": [
      "['Raiders of the Lost Ark (Indiana Jones and the Raiders of the Lost Ark) (1981)', 'Seven (a.k.a. Se7en) (1995)', \"Amelie (Fabuleux destin d'Amélie Poulain, Le) (2001)\", 'Twelve Monkeys (a.k.a. 12 Monkeys) (1995)', 'City of God (Cidade de Deus) (2002)', 'Léon: The Professional (a.k.a. The Professional) (Léon) (1994)', 'Crouching Tiger, Hidden Dragon (Wo hu cang long) (2000)', 'Ghostbusters (a.k.a. Ghost Busters) (1984)', \"Pan's Labyrinth (Laberinto del fauno, El) (2006)\", 'Spirited Away (Sen to Chihiro no kamikakushi) (2001)', 'Life Is Beautiful (La Vita è bella) (1997)', \"Harry Potter and the Sorcerer's Stone (a.k.a. Harry Potter and the Philosopher's Stone) (2001)\", 'Run Lola Run (Lola rennt) (1998)', 'Good, the Bad and the Ugly, The (Buono, il brutto, il cattivo, Il) (1966)', 'Dumb & Dumber (Dumb and Dumber) (1994)', 'Lives of Others, The (Das leben der Anderen) (2006)', 'Princess Mononoke (Mononoke-hime) (1997)', \"Howl's Moving Castle (Hauru no ugoku shiro) (2004)\", 'Seven Samurai (Shichinin no samurai) (1954)', '(500) Days of Summer (2009)', 'Hero (Ying xiong) (2002)', 'My Neighbor Totoro (Tonari no Totoro) (1988)', 'Boot, Das (Boat, The) (1981)', 'Downfall (Untergang, Der) (2004)', \"Amores Perros (Love's a Bitch) (2000)\", 'Battle Royale (Batoru rowaiaru) (2000)', 'Kung Fu Hustle (Gong fu) (2004)', 'Ghost in the Shell (Kôkaku kidôtai) (1995)', 'Motorcycle Diaries, The (Diarios de motocicleta) (2004)', 'House of Flying Daggers (Shi mian mai fu) (2004)', 'City of Lost Children, The (Cité des enfants perdus, La) (1995)', 'Road Warrior, The (Mad Max 2) (1981)', 'Cinema Paradiso (Nuovo cinema Paradiso) (1989)', \"Dracula (Bram Stoker's Dracula) (1992)\", 'Fistful of Dollars, A (Per un pugno di dollari) (1964)', 'Laputa: Castle in the Sky (Tenkû no shiro Rapyuta) (1986)', 'Nausicaä of the Valley of the Wind (Kaze no tani no Naushika) (1984)', 'For a Few Dollars More (Per qualche dollaro in più) (1965)', 'Let the Right One In (Låt den rätte komma in) (2008)', 'Evil Dead II (Dead by Dawn) (1987)', 'Femme Nikita, La (Nikita) (1990)', \"Once Upon a Time in the West (C'era una volta il West) (1968)\", 'Girl with the Dragon Tattoo, The (Män som hatar kvinnor) (2009)', 'Sunset Blvd. (a.k.a. Sunset Boulevard) (1950)', 'Rashomon (Rashômon) (1950)', 'And Your Mother Too (Y tu mamá también) (2001)', 'Grave of the Fireflies (Hotaru no haka) (1988)', 'M*A*S*H (a.k.a. MASH) (1970)', \"March of the Penguins (Marche de l'empereur, La) (2005)\", 'Name of the Rose, The (Name der Rose, Der) (1986)', \"Kiki's Delivery Service (Majo no takkyûbin) (1989)\", '101 Dalmatians (One Hundred and One Dalmatians) (1961)', 'Triplets of Belleville, The (Les triplettes de Belleville) (2003)', 'Talk to Her (Hable con Ella) (2002)', 'Three Colors: Blue (Trois couleurs: Bleu) (1993)', 'First Blood (Rambo: First Blood) (1982)', 'Three Colors: Red (Trois couleurs: Rouge) (1994)', 'Maltese Falcon, The (a.k.a. Dangerous Female) (1931)', 'All About My Mother (Todo sobre mi madre) (1999)', 'Science of Sleep, The (La science des rêves) (2006)', 'Cowboy Bebop: The Movie (Cowboy Bebop: Tengoku no Tobira) (2001)', 'Waking Ned Devine (a.k.a. Waking Ned) (1998)', 'Red Violin, The (Violon rouge, Le) (1998)', 'Seventh Seal, The (Sjunde inseglet, Det) (1957)', 'Postman, The (Postino, Il) (1994)', 'Maria Full of Grace (Maria, Llena eres de gracia) (2004)', 'Hoosiers (a.k.a. Best Shot) (1986)', 'Porco Rosso (Crimson Pig) (Kurenai no buta) (1992)', 'Infernal Affairs (Mou gaan dou) (2002)', 'Very Long Engagement, A (Un long dimanche de fiançailles) (2004)', 'Bicycle Thieves (a.k.a. The Bicycle Thief) (a.k.a. The Bicycle Thieves) (Ladri di biciclette) (1948)', 'Open Your Eyes (Abre los ojos) (1997)', 'Orphanage, The (Orfanato, El) (2007)', 'Diving Bell and the Butterfly, The (Scaphandre et le papillon, Le) (2007)', 'Three Colors: White (Trzy kolory: Bialy) (1994)', 'Spring, Summer, Fall, Winter... and Spring (Bom yeoreum gaeul gyeoul geurigo bom) (2003)', 'In the Mood For Love (Fa yeung nin wa) (2000)', '400 Blows, The (Les quatre cents coups) (1959)', 'Nosferatu (Nosferatu, eine Symphonie des Grauens) (1922)', 'Sea Inside, The (Mar adentro) (2004)', 'Ringu (Ring) (1998)', 'Shaolin Soccer (Siu lam juk kau) (2001)', 'Ponyo (Gake no ue no Ponyo) (2008)', 'Three Days of the Condor (3 Days of the Condor) (1975)', 'Dead Alive (Braindead) (1992)', 'Blind Swordsman: Zatoichi, The (Zatôichi) (2003)', 'Paprika (Papurika) (2006)', 'Bad Education (La mala educación) (2004)', 'Secret in Their Eyes, The (El secreto de sus ojos) (2009)', 'Wild Strawberries (Smultronstället) (1957)', 'Celebration, The (Festen) (1998)', '8 1/2 (8½) (1963)', '1984 (Nineteen Eighty-Four) (1984)', 'Battle of Algiers, The (La battaglia di Algeri) (1966)', 'Like Water for Chocolate (Como agua para chocolate) (1992)', 'Show Me Love (Fucking Åmål) (1998)', 'Solaris (Solyaris) (1972)', 'Counterfeiters, The (Die Fälscher) (2007)', 'Hate (Haine, La) (1995)', 'Breathless (À bout de souffle) (1960)', 'Hard-Boiled (Lat sau san taam) (1992)', '3-Iron (Bin-jip) (2004)', 'Wings of Desire (Himmel über Berlin, Der) (1987)', 'Ong-Bak: The Thai Warrior (Ong Bak) (2003)', 'Prophet, A (Un Prophète) (2009)', 'Lady Vengeance (Sympathy for Lady Vengeance) (Chinjeolhan geumjassi) (2005)', 'Cabinet of Dr. Caligari, The (Cabinet des Dr. Caligari., Das) (1920)', 'Aguirre: The Wrath of God (Aguirre, der Zorn Gottes) (1972)', 'Audition (Ôdishon) (1999)', 'Waltz with Bashir (Vals im Bashir) (2008)', 'Killer, The (Die xue shuang xiong) (1989)', 'Edukators, The (Die Fetten Jahre sind vorbei) (2004)', 'Black Cat, White Cat (Crna macka, beli macor) (1998)', 'Raise the Red Lantern (Da hong deng long gao gao gua) (1991)', 'Ghost in the Shell 2: Innocence (a.k.a. Innocence) (Inosensu) (2004)', 'Chungking Express (Chung Hing sam lam) (1994)', 'Eat Drink Man Woman (Yin shi nan nu) (1994)', 'Shall We Dance? (Shall We Dansu?) (1996)', 'Koyaanisqatsi (a.k.a. Koyaanisqatsi: Life Out of Balance) (1983)', 'Throne of Blood (Kumonosu jô) (1957)', \"Devil's Backbone, The (Espinazo del diablo, El) (2001)\", 'Man Without a Past, The (Mies vailla menneisyyttä) (2002)', 'Night Watch (Nochnoy dozor) (2004)', 'Diabolique (Les diaboliques) (1955)', 'Vanishing, The (Spoorloos) (1988)', 'Black Book (Zwartboek) (2006)', 'Hidden Fortress, The (Kakushi-toride no san-akunin) (1958)', 'Hidden (a.k.a. Cache) (Caché) (2005)', 'Drunken Master (Jui kuen) (1978)', '4 Months, 3 Weeks and 2 Days (4 luni, 3 saptamâni si 2 zile) (2007)', 'Lilya 4-Ever (Lilja 4-ever) (2002)', 'Barbarian Invasions, The (Les invasions barbares) (2003)', 'Blow-Up (Blowup) (1966)', 'Host, The (Gwoemul) (2006)', \"Buffalo '66 (a.k.a. Buffalo 66) (1998)\", 'Beauty and the Beast (La belle et la bête) (1946)', 'Lupin III: The Castle Of Cagliostro (Rupan sansei: Kariosutoro no shiro) (1979)', 'Head-On (Gegen die Wand) (2004)', 'Manon of the Spring (Manon des sources) (1986)', 'Timecrimes (Cronocrímenes, Los) (2007)', 'Brüno (Bruno) (2009)', 'Women on the Verge of a Nervous Breakdown (Mujeres al borde de un ataque de nervios) (1988)', \"Babette's Feast (Babettes gæstebud) (1987)\", 'Pier, The (Jetée, La) (1962)', 'Discreet Charm of the Bourgeoisie, The (Charme discret de la bourgeoisie, Le) (1972)', 'Tell No One (Ne le dis à personne) (2006)', 'Sanjuro (Tsubaki Sanjûrô) (1962)', 'Jules and Jim (Jules et Jim) (1961)', 'Sophie Scholl: The Final Days (Sophie Scholl - Die letzten Tage) (2005)', 'Fanny and Alexander (Fanny och Alexander) (1982)', 'Wages of Fear, The (Salaire de la peur, Le) (1953)', 'My Life as a Dog (Mitt liv som hund) (1985)', 'Samouraï, Le (Godson, The) (1967)', 'Central Station (Central do Brasil) (1998)', 'Separation, A (Jodaeiye Nader az Simin) (2011)', \"Passion of Joan of Arc, The (Passion de Jeanne d'Arc, La) (1928)\", 'Departures (Okuribito) (2008)', 'Memories of Murder (Salinui chueok) (2003)', 'Elite Squad: The Enemy Within (Tropa de Elite 2 - O Inimigo Agora É Outro) (2010)', 'Andalusian Dog, An (Chien andalou, Un) (1929)', 'Grand Illusion (La grande illusion) (1937)', 'Andrei Rublev (Andrey Rublyov) (1969)', 'Winged Migration (Peuple migrateur, Le) (2001)', 'Beauty of the Day (Belle de jour) (1967)', 'Fireworks (Hana-bi) (1997)', 'Double Life of Veronique, The (Double Vie de Véronique, La) (1991)', \"Microcosmos (Microcosmos: Le peuple de l'herbe) (1996)\", 'Tokyo Story (Tôkyô monogatari) (1953)', 'Lust, Caution (Se, jie) (2007)', 'Vie en Rose, La (Môme, La) (2007)', 'Rules of the Game, The (La règle du jeu) (1939)', 'Once Upon a Time in China (Wong Fei Hung) (1991)', 'Rififi (Du rififi chez les hommes) (1955)', 'High and Low (Tengoku to jigoku) (1963)', 'Christmas Carol, A (Scrooge) (1951)', \"Man Bites Dog (C'est arrivé près de chez vous) (1992)\", 'Together (Tillsammans) (2000)', 'Secret World of Arrietty, The (Kari-gurashi no Arietti) (2010)', 'Sydney (Hard Eight) (1996)', 'Tale of Two Sisters, A (Janghwa, Hongryeon) (2003)', 'Wedding Banquet, The (Xi yan) (1993)', 'Short Film About Killing, A (Krótki film o zabijaniu) (1988)', 'Steamboy (Suchîmubôi) (2004)', 'Farewell My Concubine (Ba wang bie ji) (1993)', 'Bride of Frankenstein, The (Bride of Frankenstein) (1935)', 'Sex and Lucia (Lucía y el sexo) (2001)', 'Return, The (Vozvrashcheniye) (2003)', 'Kolya (Kolja) (1996)', 'Scenes From a Marriage (Scener ur ett äktenskap) (1973)', 'Nobody Knows (Dare mo shiranai) (2004)', 'Winter War (Talvisota) (1989)', 'Headhunters (Hodejegerne) (2011)', 'Tenant, The (Locataire, Le) (1976)', 'Iron Monkey (Siu nin Wong Fei-hung ji: Tit Ma Lau) (1993)', 'Dinner Game, The (Dîner de cons, Le) (1998)', 'That Obscure Object of Desire (Cet obscur objet du désir) (1977)', 'Nights of Cabiria (Notti di Cabiria, Le) (1957)', 'Virgin Spring, The (Jungfrukällan) (1960)', 'Europa Europa (Hitlerjunge Salomon) (1990)', 'Decalogue, The (Dekalog) (1989)', 'Joyeux Noël (Merry Christmas) (2005)', 'Sonatine (Sonachine) (1993)', 'Last Tango in Paris (Ultimo tango a Parigi) (1972)', 'Nosferatu the Vampyre (Nosferatu: Phantom der Nacht) (1979)', 'Princess and the Warrior, The (Krieger und die Kaiserin, Der) (2000)', 'Harakiri (Seppuku) (1962)', 'Best of Youth, The (La meglio gioventù) (2003)', 'Curse of the Golden Flower (Man cheng jin dai huang jin jia) (2006)', 'High Tension (Haute tension) (Switchblade Romance) (2003)', 'Piano Teacher, The (La pianiste) (2001)', 'Exterminating Angel, The (Ángel exterminador, El) (1962)', 'Control (Kontroll) (2003)', 'Fallen Angels (Duo luo tian shi) (1995)', '13 Assassins (Jûsan-nin no shikaku) (2010)', 'Knife in the Water (Nóz w wodzie) (1962)', 'Band of Outsiders (Bande à part) (1964)', 'Come and See (Idi i smotri) (1985)', 'Red Beard (Akahige) (1965)', 'Cries and Whispers (Viskningar och rop) (1972)', 'Micmacs (Micmacs à tire-larigot) (2009)', 'Ace in the Hole (Big Carnival, The) (1951)', \"Avventura, L' (Adventure, The) (1960)\", 'Mirror, The (Zerkalo) (1975)', 'My Life in Pink (Ma vie en rose) (1997)', 'Millennium Actress (Sennen joyû) (2001)', 'Edge of Heaven, The (Auf der anderen Seite) (2007)', 'Cuckoo, The (Kukushka) (2002)', 'After the Wedding (Efter brylluppet) (2006)', 'Godzilla (Gojira) (1954)', 'Stray Dog (Nora inu) (1949)', 'Shoot the Piano Player (Tirez sur le pianiste) (1960)', 'Dark Water (Honogurai mizu no soko kara) (2002)', 'Man with the Movie Camera, The (Chelovek s kino-apparatom) (1929)', 'Mrs. Brown (a.k.a. Her Majesty, Mrs. Brown) (1997)', 'Dogtooth (Kynodontas) (2009)', 'Mon Oncle (My Uncle) (1958)', 'Tin Drum, The (Blechtrommel, Die) (1979)', 'Cercle Rouge, Le (Red Circle, The) (1970)', 'Through a Glass Darkly (Såsom i en spegel) (1961)', 'Deep Red (Profondo rosso) (1975)', 'Class, The (Entre les murs) (2008)', 'Live Flesh (Carne trémula) (1997)', 'Rome, Open City (a.k.a. Open City) (Roma, città aperta) (1945)', 'Children of Paradise (Les enfants du paradis) (1945)', \"Ivan's Childhood (a.k.a. My Name is Ivan) (Ivanovo detstvo) (1962)\", 'Night and Fog (Nuit et brouillard) (1955)', \"Illusionist, The (L'illusionniste) (2010)\", 'Children of Heaven, The (Bacheha-Ye Aseman) (1997)', \"Army of Shadows (L'armée des ombres) (1969)\", 'Conformist, The (Conformista, Il) (1970)', 'Happy Together (a.k.a. Buenos Aires Affair) (Chun gwong cha sit) (1997)', 'Police Story (Ging chaat goo si) (1985)', 'Ugetsu (Ugetsu monogatari) (1953)', 'Alphaville (Alphaville, une étrange aventure de Lemmy Caution) (1965)', 'Umbrellas of Cherbourg, The (Parapluies de Cherbourg, Les) (1964)', 'Red Balloon, The (Ballon rouge, Le) (1956)', \"M. Hulot’s Holiday (Mr. Hulot's Holiday) (Vacances de Monsieur Hulot, Les) (1953)\", 'Burnt by the Sun (Utomlyonnye solntsem) (1994)', \"Man Escaped, A (Un  condamné à mort s'est échappé ou Le vent souffle où il veut) (1956)\", 'Broken Embraces (Los abrazos rotos) (2009)', 'Gomorrah (Gomorra) (2008)', 'Last Life in the Universe (Ruang rak noi nid mahasan) (2003)', 'Nine to Five (a.k.a. 9 to 5) (1980)', 'I Saw the Devil (Akmareul boatda) (2010)', 'Winter Light (Nattvardsgästerna) (1963)', 'To Live (Huozhe) (1994)', 'Mostly Martha (Bella Martha) (2001)', 'Fantastic Planet, The (Planète sauvage, La) (1973)', 'Contempt (Mépris, Le) (1963)', \"Elevator to the Gallows (a.k.a. Frantic) (Ascenseur pour l'échafaud) (1958)\", 'Woman in the Dunes (Suna no onna) (1964)', 'Smiles of a Summer Night (Sommarnattens leende) (1955)', 'City of Men (Cidade dos Homens) (2007)', 'Red Cliff (Chi bi) (2008)', 'After Life (Wandafuru raifu) (1998)', 'Day for Night (La Nuit Américaine) (1973)', 'Silence, The (Tystnaden) (1963)', \"I've Loved You So Long (Il y a longtemps que je t'aime) (2008)\", 'Matter of Life and Death, A (Stairway to Heaven) (1946)', 'Legend, The (Legend of Fong Sai-Yuk, The) (Fong Sai Yuk) (1993)', 'Betty Blue (37°2 le matin) (1986)', 'Enigma of Kaspar Hauser, The (a.k.a. Mystery of Kaspar Hauser, The) (Jeder für sich und Gott Gegen Alle) (1974)', 'Nightwatch (Nattevagten) (1994)', 'Better Tomorrow, A (Ying hung boon sik) (1986)', 'Ali: Fear Eats the Soul (Angst essen Seele auf) (1974)', \"Block Party (a.k.a. Dave Chappelle's Block Party) (2005)\", 'Vivre sa vie: Film en douze tableaux (My Life to Live) (1962)', 'Autumn Sonata (Höstsonaten) (1978)', 'Play Time (a.k.a. Playtime) (1967)', 'Black Orpheus (Orfeu Negro) (1959)', 'Days of Being Wild (A Fei jingjyuhn) (1990)', 'Mother (Madeo) (2009)', '3 Women (Three Women) (1977)', 'Short Film About Love, A (Krótki film o milosci) (1988)', 'Song of the Little Road (Pather Panchali) (1955)', 'Thirteen Conversations About One Thing (a.k.a. 13 Conversations) (2001)', \"Beat That My Heart Skipped, The (battre mon coeur s'est arrêté, De) (2005)\", 'Chinese Ghost Story, A (Sinnui yauwan) (1987)', \"Child, The (L'enfant) (2005)\", 'Bus 174 (Ônibus 174) (2002)', 'Five Obstructions, The (Fem benspænd, De) (2003)', 'To Be and to Have (Être et avoir) (2002)', \"Antonia's Line (Antonia) (1995)\", 'Road Home, The (Wo de fu qin mu qin) (1999)', 'Zorba the Greek (Alexis Zorbas) (1964)', 'Trial, The (Procès, Le) (1962)', 'Visitor Q (Bizita Q) (2001)', 'Kwaidan (Kaidan) (1964)', 'Testament of Dr. Mabuse, The (Das Testament des Dr. Mabuse) (1933)', \"Eclisse, L' (Eclipse) (1962)\", 'Eyes Without a Face (Yeux sans visage, Les) (1959)', 'Summer Wars (Samâ wôzu) (2009)', 'Bagdad Cafe (Out of Rosenheim) (1987)', 'Blue Angel, The (Blaue Engel, Der) (1930)', 'Ashes and Diamonds (Popiól i diament) (1958)', 'Orpheus (Orphée) (1950)', 'Eye, The (Gin gwai) (Jian gui) (2002)', 'Time of the Gypsies (Dom za vesanje) (1989)', '1900 (Novecento) (1976)', 'Story of the Weeping Camel, The (Geschichte vom weinenden Kamel, Die) (2003)', 'Spirit of the Beehive, The (Espíritu de la colmena, El) (1973)', 'Great Train Robbery, The (a.k.a. First Great Train Robbery, The) (1979)', 'My Best Fiend (Mein liebster Feind) (1999)', 'Bad Sleep Well, The (Warui yatsu hodo yoku nemuru) (1960)', 'Happiness of the Katakuris, The (Katakuri-ke no kôfuku) (2001)', 'Girl on the Bridge, The (Fille sur le pont, La) (1999)', 'Sacrifice, The (Offret - Sacraficatio) (1986)', 'Sansho the Bailiff (Sanshô dayû) (1954)', 'Revolution Will Not Be Televised, The (a.k.a. Chavez: Inside the Coup) (2003)', \"Last Year at Marienbad (L'Année dernière à Marienbad) (1961)\", 'Macbeth (a.k.a. Tragedy of Macbeth, The) (1971)', 'Vitelloni, I (a.k.a. The Young and the Passionate) (1953)', 'World of Apu, The (Apur Sansar) (1959)', 'Triumph of the Will (Triumph des Willens) (1934)', 'Jesus of Montreal (Jésus de Montréal) (1989)', 'Juliet of the Spirits (Giulietta degli spiriti) (1965)', 'Marriage of Maria Braun, The (Ehe der Maria Braun, Die) (1979)', 'Leopard, The (Gattopardo, Il) (1963)', 'Alexander Nevsky (Aleksandr Nevskiy) (1938)', \"Baadasssss! (How to Get the Man's Foot Outta Your Ass) (2003)\", 'Sword of Doom, The (Dai-bosatsu tôge) (1966)', \"Divorce - Italian Style (Divorzio all'italiana) (1961)\", 'Young at Heart (a.k.a. Young@Heart) (2007)', 'Coco Before Chanel (Coco avant Chanel) (2009)', 'Corbeau, Le (Raven, The) (1943)', 'Fast Runner, The (Atanarjuat) (2001)', 'Woman Is a Woman, A (femme est une femme, Une) (1961)', 'Young and the Damned, The (Olvidados, Los) (1950)', \"Bear, The (Ours, L') (1988)\", 'Late Spring (Banshun) (1949)', 'Cranes Are Flying, The (Letyat zhuravli) (1957)', 'Cleo from 5 to 7 (Cléo de 5 à 7) (1962)', 'Night, The (Notte, La) (1960)', 'Last Laugh, The (Letzte Mann, Der) (1924)', 'Sunless (Sans Soleil) (1983)', \"Pandora's Box (Büchse der Pandora, Die) (1929)\", 'Closely Watched Trains (Ostre sledované vlaky) (1966)', 'I Stand Alone (Seul contre tous) (1998)', 'Weekend (a.k.a. Le Week-end) (Week End) (1967)', 'F for Fake (Vérités et mensonges) (1973)', 'Day of Wrath (Vredens dag) (1943)', 'Boss of It All, The (Direktøren for det hele) (2006)', \"Apartment, The (Appartement, L') (1996)\", \"My Father's Glory (La gloire de mon père) (1990)\", 'Forbidden Games (Jeux interdits) (1952)', \"My Mother's Castle (Château de ma mère, Le) (1990)\", 'Gun Crazy (a.k.a. Deadly Is the Female) (1949)', 'Son, The (Le fils) (2002)', 'Law of Desire (Ley del deseo, La) (1987)', 'Before the Rain (Pred dozhdot) (1994)', 'Stolen Kisses (Baisers volés) (1968)', 'Queen Margot (Reine Margot, La) (1994)', 'Shivers (They Came from Within) (1975)', \"Golden Age, The (Âge d'Or, L') (1930)\", 'Russian Ark (Russkiy Kovcheg) (2002)', 'Ordet (Word, The) (1955)', \"Scent of Green Papaya, The (Mùi du du xhan - L'odeur de la papaye verte) (1993)\", \"Man on the Train (Homme du train, L') (2002)\", 'Rocco and His Brothers (Rocco e i suoi fratelli) (1960)', 'Samurai I: Musashi Miyamoto (Miyamoto Musashi) (1954)', 'Floating Weeds (Ukigusa) (1959)', 'Green Butchers, The (Grønne slagtere, De) (2003)', 'American Friend, The (Amerikanische Freund, Der) (1977)', 'Read My Lips (Sur mes lèvres) (2001)', 'With a Friend Like Harry... (Harry, un ami qui vous veut du bien) (2000)', 'Shame (Skammen) (1968)', 'Magician, The (Ansiktet) (1958)', 'Sorrow and the Pity, The (Le chagrin et la pitié) (1969)', 'Brothers (Brødre) (2004)', 'Bullfighter, The (Matador) (1986)', 'Quest for Fire (Guerre du feu, La) (1981)', 'Magic Flute, The (Trollflöjten) (1975)', 'Moscow Does Not Believe in Tears (Moskva slezam ne verit) (1979)', 'Not One Less (Yi ge dou bu neng shao) (1999)', 'What Have I Done to Deserve This? (¿Qué he hecho yo para merecer esto!!) (1984)', 'Turtles Can Fly (Lakposhtha hâm parvaz mikonand) (2004)', \"Son's Room, The (Stanza del figlio, La) (2001)\", 'Phantom of Liberty, The (Fantôme de la liberté, Le) (1974)', 'Gospel According to St. Matthew, The (Vangelo secondo Matteo, Il) (1964)', 'Early Summer (Bakushû) (1951)', 'Earrings of Madame de..., The (Madame de...) (1953)', 'Mondays in the Sun (Lunes al sol, Los) (2002)', \"Taste of Cherry (Ta'm e guilass) (1997)\", \"Hairdresser's Husband, The (Le mari de la coiffeuse) (1990)\", 'Shower (Xizao) (1999)', \"Fellini's Roma (Roma) (1972)\", \"My Night At Maud's (Ma Nuit Chez Maud) (1969)\", 'Pelle the Conqueror (Pelle erobreren) (1987)', 'Story of Qiu Ju, The (Qiu Ju da guan si) (1992)', 'Summer with Monika (Sommaren med Monika) (1953)', 'Shop on Main Street, The (Obchod na korze) (1965)', 'In the Realm of the Senses (Ai no corrida) (1976)', 'Ashes of Time (Dung che sai duk) (1994)', 'Days of Glory (Indigènes) (2006)', \"Decline of the American Empire, The (Déclin de l'empire américain, Le) (1986)\", 'Caramel (Sukkar banat) (2007)', \"OSS 117: Cairo, Nest of Spies (OSS 117: Le Caire nid d'espions) (2006)\", 'All the Mornings of the World (Tous les matins du monde) (1991)', 'Look at Me (Comme une image) (2004)', 'Dreamlife of Angels, The (Vie rêvée des anges, La) (1998)', 'Veronika Voss (Sehnsucht der Veronika Voss, Die) (1982)', 'Zero de conduite (Zero for Conduct) (Zéro de conduite: Jeunes diables au collège) (1933)', 'Character (Karakter) (1997)', \"Diary of a Country Priest (Journal d'un curé de campagne) (1951)\", 'Unvanquished, The (Aparajito) (1957)', 'Great Silence, The (Grande silenzio, Il) (1969)', 'Blow-Out (La grande bouffe) (1973)', 'Gleaners & I, The (Les glaneurs et la glaneuse) (2000)', 'Murder on a Sunday Morning (Un coupable idéal) (2001)', 'Land and Freedom (Tierra y libertad) (1995)', 'Save the Green Planet! (Jigureul jikyeora!) (2003)', 'Red Sorghum (Hong gao liang) (1987)', 'Quai des Orfèvres (Jenny Lamour) (1947)', 'Henry V (Chronicle History of King Henry the Fift with His Battell Fought at Agincourt in France, The) (1944)', 'Hallam Foe (Mister Foe) (2007)', 'Taste of Others, The (Le goût des autres) (2000)', 'Color of Paradise, The (Rang-e khoda) (1999)', 'Nasty Girl, The (schreckliche Mädchen, Das) (1990)', 'Taboo (Gohatto) (1999)', 'Port of Shadows (Quai des brumes) (1938)', 'Alice (Neco z Alenky) (1988)', 'Hands Off the Loot (Touchez pas au grisbi) (1954)', 'Murmur of the Heart (Le souffle au coeur) (1971)', 'Open Hearts (Elsker dig for evigt) (2002)', 'Death in Venice (Morte a Venezia) (1971)', 'Ballad of a Soldier (Ballada o soldate) (1959)', 'I.O.U.S.A. (a.k.a. IOUSA) (2008)', 'Horror of Dracula (Dracula) (1958)', 'Soldier of Orange (a.k.a. Survival Run) (Soldaat van Oranje) (1977)', 'Werckmeister Harmonies (Werckmeister harmóniák) (2000)', 'Crime of Father Amaro, The (Crimen del padre Amaro, El) (2002)', 'Emperor and the Assassin, The (Jing ke ci qin wang) (1999)', 'Big Deal on Madonna Street (I Soliti Ignoti) (1958)', \"Beyond, The (E tu vivrai nel terrore - L'aldilà) (1981)\", 'Camera Buff (Amator) (1979)', 'Affair of Love, An (Liaison pornographique, Une) (1999)', 'Human Condition I, The (Ningen no joken I) (1959)', 'Blind Chance (Przypadek) (1981)', 'Wonderful, Horrible Life of Leni Riefenstahl, The (Macht der Bilder: Leni Riefenstahl, Die) (1993)', 'Loves of a Blonde (Lásky jedné plavovlásky) (1965)', 'Fat Girl (À ma soeur!) (2001)', \"Diary of a Chambermaid (Journal d'une femme de chambre, Le) (1964)\", \"Firemen's Ball, The (Horí, má panenko) (1967)\", 'I Am Cuba (Soy Cuba/Ya Kuba) (1964)', 'Monster, The (Mostro, Il) (1994)', 'Shooting Dogs (a.k.a. Beyond the Gates) (2005)', 'Red Desert (Deserto rosso, Il) (1964)', 'Official Story, The (La historia oficial) (1985)', 'Man and a Woman, A (Un homme et une femme) (1966)', 'Last Metro, The (Dernier métro, Le) (1980)', 'Vagabond (Sans toit ni loi) (1985)', 'Heart in Winter, A (Un coeur en hiver) (1992)', 'Of Gods and Men (Des hommes et des dieux) (2010)', 'Chimes at Midnight (Campanadas a medianoche) (1965)', 'À nous la liberté (Freedom for Us) (1931)', 'Kid With a Bike, The (Le gamin au vélo) (2011)', 'Investigation of a Citizen Above Suspicion (Indagine su un cittadino al di sopra di ogni sospetto) (1970)', 'Strawberry and Chocolate (Fresa y chocolate) (1993)', 'Lost Honor of Katharina Blum, The (Verlorene Ehre der Katharina Blum oder: Wie Gewalt entstehen und wohin sie führen kann, Die) (1975)', 'I Served the King of England (Obsluhoval jsem anglického krále) (2006)', 'Dr. Mabuse: The Gambler (Dr. Mabuse, der Spieler) (1922)', 'Garden of the Finzi-Continis, The (Giardino dei Finzi-Contini, Il) (1970)', 'Fall of the House of Usher, The (House of Usher) (1960)', 'Towelhead (a.k.a. Nothing is Private) (2007)', 'Tale of Ham and Passion, A (Jamón, Jamón) (1992)', 'Black Sunday (La maschera del demonio) (1960)', \"Time Out (L'emploi du temps) (2001)\", 'Lights in the Dusk (Laitakaupungin valot) (2006)', 'Element of Crime, The (Forbrydelsens Element) (1984)', 'Heartbeats (Les amours imaginaires) (2010)', 'Purple Noon (Plein soleil) (1960)', 'Witchfinder General (Conquerer Worm, The) (1968)', \"Mifune's Last Song (Mifunes sidste sang) (1999)\", \"Lorna's Silence (Le silence de Lorna) (2008)\", 'Othello (Tragedy of Othello: The Moor of Venice, The) (1952)', 'Curse of the Demon (Night of the Demon) (1957)', 'Prisoner of the Mountains (Kavkazsky plennik) (1996)', 'Inheritance, The (Arven) (2003)', 'Even the Rain (También la lluvia) (2010)', 'Italian, The (Italianetz) (2005)', 'Seven Beauties (Pasqualino Settebellezze) (1976)', 'Two Women (Ciociara, La) (1960)', 'Autumn Afternoon, An (Sanma no aji) (1962)', 'Man Facing Southeast (Hombre mirando al sudeste) (1986)', \"Love in the Afternoon (Chloe in the Afternoon)  (L'amour l'après-midi) (1972)\", 'Young Girls of Rochefort, The (Demoiselles de Rochefort, Les) (1967)', 'Wind Will Carry Us, The (Bad ma ra khahad bord) (1999)', 'Armour of God (Long xiong hu di) (1987)', 'Christmas Tale, A (Un conte de Noël) (2008)', 'Night Porter, The (Portiere di notte, Il) (1974)', 'White Balloon, The (Badkonake sefid) (1995)', 'Men in Black (a.k.a. MIB) (1997)', 'Independence Day (a.k.a. ID4) (1996)', 'Brotherhood of the Wolf (Pacte des loups, Le) (2001)', \"Paris, I Love You (Paris, je t'aime) (2006)\", 'Elite Squad (Tropa de Elite) (2007)', 'District 13 (Banlieue 13) (2004)', 'Girl Who Played with Fire, The (Flickan som lekte med elden) (2009)', 'Girl Who Leapt Through Time, The (Toki o kakeru shôjo) (2006)', 'Hunt, The (Jagten) (2012)', 'Twilight Samurai, The (Tasogare Seibei) (2002)', 'Wave, The (Welle, Die) (2008)', 'Evil (Ondskan) (2003)', 'White Ribbon, The (Das weiße Band) (2009)', 'Jin Roh: The Wolf Brigade (Jin-Rô) (1998)', 'Tae Guk Gi: The Brotherhood of War (Taegukgi hwinalrimyeo) (2004)', '3 Extremes (Three... Extremes) (Saam gaang yi) (2004)', 'Day Watch (Dnevnoy dozor) (2006)', \"Blue Is the Warmest Color (La vie d'Adèle) (2013)\", \"Hachiko: A Dog's Story (a.k.a. Hachi: A Dog's Tale) (2009)\", \"Band's Visit, The (Bikur Ha-Tizmoret) (2007)\", 'Holy Mountain, The (Montaña sagrada, La) (1973)', '101 Reykjavik (101 Reykjavík) (2000)', 'What the #$*! Do We Know!? (a.k.a. What the Bleep Do We Know!?) (2004)', 'Rare Exports: A Christmas Tale (Rare Exports) (2010)', 'Tie Me Up! Tie Me Down! (¡Átame!) (1990)', 'Italian for Beginners (Italiensk for begyndere) (2000)', 'Cemetery Man (Dellamorte Dellamore) (1994)', 'Impossible, The (Imposible, Lo) (2012)', 'Europa (Zentropa) (1991)', 'Duck, You Sucker (a.k.a. Fistful of Dynamite, A) (Giù la testa) (1971)', 'Trip to the Moon, A (Voyage dans la lune, Le) (1902)', 'Bothersome Man, The (Brysomme mannen, Den) (2006)', 'Chaser, The (Chugyeogja) (2008)', 'In a Better World (Hævnen) (2010)', 'Salo, or The 120 Days of Sodom (Salò o le 120 giornate di Sodoma) (1976)', 'Bittersweet Life, A (Dalkomhan insaeng) (2005)', 'Hour of the Wolf (Vargtimmen) (1968)', 'Noi the Albino (Nói albinói) (2003)', 'District 13: Ultimatum (Banlieue 13 - Ultimatum) (2009)', 'Man from Nowhere, The (Ajeossi) (2010)', 'Great Beauty, The (Grande Bellezza, La) (2013)', \"Rust and Bone (De rouille et d'os) (2012)\", 'You, the Living (Du levande) (2007)', 'Wind Rises, The (Kaze tachinu) (2013)', 'Kirikou and the Sorceress (Kirikou et la sorcière) (1998)', \"Lover, The (Amant, L') (1992)\", 'Drunken Angel (Yoidore tenshi) (1948)', 'Returner (Ritaanaa) (2002)', 'Flame and Citron (Flammen & Citronen) (2008)', 'Lone Wolf and Cub: Sword of Vengeance (Kozure Ôkami: Kowokashi udekashi tsukamatsuru) (1972)', 'Past, The (Le passé) (2013)', 'Good Morning (Ohayô) (1959)', 'Samurai Rebellion (Jôi-uchi: Hairyô tsuma shimatsu) (1967)', 'Royal Affair, A (Kongelig affære, En) (2012)', 'Wolf Children (Okami kodomo no ame to yuki) (2012)', 'Trou, Le (Hole, The) (Night Watch, The) (1960)', 'Lone Wolf and Cub: Baby Cart to Hades (Kozure Ôkami: Shinikazeni mukau ubaguruma) (1972)', 'Before the Fall (NaPolA - Elite für den Führer) (2004)', 'Match Factory Girl, The (Tulitikkutehtaan tyttö) (1990)', 'Passion of Anna, The (Passion, En) (1969)', \"I Am Love (Io sono l'amore) (2009)\", 'Simon of the Desert (Simón del desierto) (1965)', 'Lone Wolf and Cub: Baby Cart at the River Styx (Kozure Ôkami: Sanzu no kawa no ubaguruma) (1972)', 'Samurai II: Duel at Ichijoji Temple (Zoku Miyamoto Musashi: Ichijôji no kettô) (1955)', 'Samurai III: Duel on Ganryu Island (a.k.a. Bushido) (Miyamoto Musashi kanketsuhen: kettô Ganryûjima) (1956)', 'Lower Depths, The (Donzoko) (1957)', 'Devil and Daniel Webster, The (All That Money Can Buy) (1941)', 'Kamikaze Girls (Shimotsuma monogatari) (2004)', 'Lessons of Darkness (Lektionen in Finsternis) (1992)', 'Poetry (Shi) (2010)', 'Dumplings (Gaau ji) (2004)', 'Gloomy Sunday (Ein Lied von Liebe und Tod) (1999)', 'House (Hausu) (1977)', 'Still Walking (Aruitemo aruitemo) (2008)', 'Germany Year Zero (Germania anno zero) (Deutschland im Jahre Null) (1948)', 'From Up on Poppy Hill (Kokuriko-zaka kara) (2011)', \"Dodes'ka-den (Clickety-Clack) (1970)\", 'Flowers of War, The (Jin líng shí san chai) (2011)', '20 Feet from Stardom (Twenty Feet from Stardom) (2013)', 'Shadows in Paradise (Varjoja paratiisissa) (1986)', 'Blame it on Fidel! (La faute à Fidel!) (2006)', 'Bullhead (Rundskop) (2011)', 'Common Wealth (Comunidad, La) (2000)', 'Cherry Blossoms (Kirschblüten - Hanami) (2008)', \"Swept Away (Travolti da un insolito destino nell'azzurro mare d'Agosto) (1975)\", \"Small Change (Argent de poche, L') (1976)\", 'Everlasting Moments (Maria Larssons eviga ögonblick) (2008)', 'Force Majeure (Turist) (2014)', 'Bugs Bunny / Road Runner Movie, The (a.k.a. The Great American Chase) (1979)', \"Claire's Knee (Genou de Claire, Le) (1970)\", 'Alien³ (a.k.a. Alien 3) (1992)', 'Men in Black II (a.k.a. MIIB) (a.k.a. MIB 2) (2002)', 'Déjà Vu (Deja Vu) (2006)', 'League of Extraordinary Gentlemen, The (a.k.a. LXG) (2003)', 'How the Grinch Stole Christmas (a.k.a. The Grinch) (2000)', 'Ninja Scroll (Jûbei ninpûchô) (1995)', \"Mary Shelley's Frankenstein (Frankenstein) (1994)\", 'Ichi the Killer (Koroshiya 1) (2001)', 'Big Blue, The (Grand bleu, Le) (1988)', 'Appleseed (Appurushîdo) (2004)', \"Akira Kurosawa's Dreams (Dreams) (1990)\", 'Whisper of the Heart (Mimi wo sumaseba) (1995)', 'Shrek Forever After (a.k.a. Shrek: The Final Chapter) (2010)', 'Thesis (Tesis) (1996)', 'Neon Genesis Evangelion: The End of Evangelion (Shin seiki Evangelion Gekijô-ban: Air/Magokoro wo, kimi ni) (1997)', 'Thirteen Ghosts (a.k.a. Thir13en Ghosts) (2001)', 'Adventures of Milo and Otis, The (Koneko monogatari) (1986)', 'TMNT (Teenage Mutant Ninja Turtles) (2007)', 'Evangelion: 1.0 You Are (Not) Alone (Evangerion shin gekijôban: Jo) (2007)', \"I'm a Cyborg, But That's OK (Saibogujiman kwenchana) (2006)\", 'Simone (S1m0ne) (2002)', 'Tetsuo, the Ironman (Tetsuo) (1988)', 'Tekkonkinkreet (Tekkon kinkurîto) (2006)', 'Thirst (Bakjwi) (2009)', 'Suicide Club (Jisatsu saakuru) (2001)', 'Evangelion: 2.0 You Can (Not) Advance (Evangerion shin gekijôban: Ha) (2009)', \"Man Who Planted Trees, The (Homme qui plantait des arbres, L') (1987)\", 'Memories (Memorîzu) (1995)', 'Highlander III: The Sorcerer (a.k.a. Highlander: The Final Dimension) (1994)', 'Asterix & Obelix: Mission Cleopatra (Astérix & Obélix: Mission Cléopâtre) (2002)', \"Colour of Magic, The (Terry Pratchett's The Colour of Magic) (2008)\", \"Wes Craven's New Nightmare (Nightmare on Elm Street Part 7: Freddy's Finale, A) (1994)\", 'Halloween H20: 20 Years Later (Halloween 7: The Revenge of Laurie Strode) (1998)', 'Godzilla 2000 (Gojira ni-sen mireniamu) (1999)', 'Visitors, The (Visiteurs, Les) (1993)', 'Escaflowne: The Movie (Escaflowne) (2000)', \"Eight Crazy Nights (Adam Sandler's Eight Crazy Nights) (2002)\", \"Last Man on Earth, The (Ultimo uomo della Terra, L') (1964)\", \"Bride of Chucky (Child's Play 4) (1998)\", 'Zombie (a.k.a. Zombie 2: The Dead Are Among Us) (Zombi 2) (1979)', \"Hogfather (Terry Pratchett's Hogfather) (2006)\", 'Immortel (ad vitam) (Immortal) (2004)', 'Ringu 2 (Ring 2) (1999)', 'Sexmission (Seksmisja) (1984)', 'Wings of Honneamise (Ôritsu uchûgun Oneamisu no tsubasa) (1987)', 'Fullmetal Alchemist the Movie: Conqueror of Shamballa (Gekijô-ban hagane no renkinjutsushi: Shanbara wo yuku mono) (2005)', 'Final Destination, The (Final Destination 4) (Final Destination in 3-D, The) (2009)', 'Cat Soup (Nekojiru-so) (2001)', 'Heavyweights (Heavy Weights) (1995)', 'Highlander: Endgame (Highlander IV) (2000)', 'Phenomena (a.k.a. Creepers) (1985)', 'Jungle2Jungle (a.k.a. Jungle 2 Jungle) (1997)', 'Who Am I? (Wo shi shei) (1998)', \"Bird with the Crystal Plumage, The (Uccello dalle piume di cristallo, L') (1970)\", 'Wonderful Days (a.k.a. Sky Blue) (2003)', 'Cannibal! The Musical (a.k.a. Alferd Packer: The Musical) (1996)', 'Human Centipede, The (First Sequence) (2009)', 'Until the End of the World (Bis ans Ende der Welt) (1991)', 'Cry_Wolf (a.k.a. Cry Wolf) (2005)', 'Even Dwarfs Started Small (Auch Zwerge haben klein angefangen) (1971)', 'Halloween: The Curse of Michael Myers (Halloween 6: The Curse of Michael Myers) (1995)', 'Them (Ils) (2006)', 'Godzilla, King of the Monsters! (Kaijû-ô Gojira) (1956)', 'Patlabor: The Movie (Kidô keisatsu patorebâ: The Movie) (1989)', 'Crazies, The (a.k.a. Code Name: Trixie) (1973)', 'I Spit on Your Grave (Day of the Woman) (1978)', 'Blood of Heroes, The (Salute of the Jugger, The) (1989)', 'Tales from Earthsea (Gedo Senki) (2006)', \"Freddy's Dead: The Final Nightmare (Nightmare on Elm Street Part 6: Freddy's Dead, A) (1991)\", 'Antibodies (Antikörper) (2005)', 'Faraway, So Close (In weiter Ferne, so nah!) (1993)', \"Seed of Chucky (Child's Play 5) (2004)\", 'Black Sabbath (Tre volti della paura, I) (1963)', 'Only Yesterday (Omohide poro poro) (1991)', \"Mr. Toad's Wild Ride (a.k.a. The Wind in the Willows) (1996)\", 'Spriggan (Supurigan) (1998)', 'RocketMan (a.k.a. Rocket Man) (1997)', 'Final Conflict, The (a.k.a. Omen III: The Final Conflict) (1981)', 'Irreversible (Irréversible) (2002)', \"Spanish Apartment, The (L'auberge espagnole) (2002)\", 'Skin I Live In, The (La piel que habito) (2011)', 'Idiots, The (Idioterne) (1998)', 'Passenger, The (Professione: reporter) (1975)', 'Nowhere in Africa (Nirgendwo in Afrika) (2001)', 'Drifting Clouds (Kauas pilvet karkaavat) (1996)', 'Priceless (Hors de prix) (2006)', '36th Chamber of Shaolin, The (Shao Lin san shi liu fang) (Master Killer) (1978)', 'Songs From the Second Floor (Sånger från andra våningen) (2000)', 'Bread and Tulips (Pane e tulipani) (2000)', 'Intact (Intacto) (2001)', 'Brother (Brat) (1997)', 'Little Otik (Otesánek) (2000)', 'Fulltime Killer (Chuen jik sat sau) (2001)', 'Ugly, Dirty and Bad (Brutti sporchi e cattivi) (1976)', 'Armour of God II: Operation Condor (Operation Condor) (Fei ying gai wak) (1991)', 'Gozu (Gokudô kyôfu dai-gekijô: Gozu) (2003)', \"Inside (À l'intérieur) (2007)\", 'Confessions (Kokuhaku) (2010)', 'Broken Wings (Knafayim Shvurot) (2002)', 'Shanghai Triad (Yao a yao yao dao waipo qiao) (1995)', 'All About Lily Chou-Chou (Riri Shushu no subete) (2001)', \"22 Bullets (L'immortel) (2010)\", 'Time (Shi gan) (2006)', 'Duck Season (Temporada de patos) (2004)', 'Code Unknown (Code inconnu: Récit incomplet de divers voyages) (2000)', 'Crazy Stranger, The (Gadjo Dilo) (1997)', 'Time of the Wolf, The (Le temps du loup) (2003)', 'About Elly (Darbareye Elly) (2009)', 'Machinist, The (Maquinista, El) (2004)', 'Professional, The (Le professionnel) (1981)', \"Christmas Vacation (National Lampoon's Christmas Vacation) (1989)\", 'Rumble in the Bronx (Hont faan kui) (1995)', 'Legend of Drunken Master, The (Jui kuen II) (1994)', \"Jet Li's Fearless (Huo Yuan Jia) (2006)\", 'Unleashed (Danny the Dog) (2005)', 'Sympathy for Mr. Vengeance (Boksuneun naui geot) (2002)', 'Rambo (Rambo 4) (2008)', 'Cat Returns, The (Neko no ongaeshi) (2002)', 'Vampire Hunter D: Bloodlust (Banpaia hantâ D) (2000)', 'American Wedding (American Pie 3) (2003)', 'Fist of Legend (Jing wu ying xiong) (1994)', 'Fast and the Furious: Tokyo Drift, The (Fast and the Furious 3, The) (2006)', \"European Vacation (aka National Lampoon's European Vacation) (1985)\", 'Fast & Furious (Fast and the Furious 4, The) (2009)', 'Fast Five (Fast and the Furious 5, The) (2011)', 'First Strike (Police Story 4: First Strike) (Ging chaat goo si 4: Ji gaan daan yam mo) (1996)', 'Troll Hunter, The (Trolljegeren) (2010)', 'American Pie Presents: Band Camp (American Pie 4: Band Camp) (2005)', 'Protector, The (a.k.a. Warrior King) (Tom yum goong) (2005)', 'Way of the Dragon, The (a.k.a. Return of the Dragon) (Meng long guo jiang) (1972)', 'Big Boss, The (Fists of Fury) (Tang shan da xiong) (1971)', 'Dead Snow (Død snø) (2009)', 'Good, the Bad, the Weird, The (Joheunnom nabbeunnom isanghannom) (2008)', 'Fist of Fury (Chinese Connection, The) (Jing wu men) (1972)', 'Supercop (Police Story 3: Supercop) (Jing cha gu shi III: Chao ji jing cha) (1992)', 'Once Upon a Time in China II (Wong Fei-hung Ji Yi: Naam yi dong ji keung) (1992)', \"Loaded Weapon 1 (National Lampoon's Loaded Weapon 1) (1993)\", 'American Reunion (American Pie 4) (2012)', 'Secret of My Succe$s, The (a.k.a. The Secret of My Success) (1987)', 'Mr. Nice Guy (Yat goh ho yan) (1997)', 'American Pie Presents Beta House (American Pie 6: Beta House) (2007)', 'Once Upon a Time in China III (Wong Fei-hung tsi sam: Siwong tsangba) (1993)', 'Piranha (Piranha 3D) (2010)', 'Godzilla vs. Mothra (Mosura tai Gojira) (1964)', \"Project A ('A' gai waak) (1983)\", 'Tai Chi Master (Twin Warriors) (Tai ji: Zhang San Feng) (1993)', \"Bon Voyage, Charlie Brown (and Don't Come Back!) (1980)\", 'Police Story 2 (Ging chaat goo si juk jaap) (1988)', 'Two Brothers (Deux frères) (2004)', 'Nine Queens (Nueve reinas) (2000)', 'Joint Security Area (Gongdong gyeongbi guyeok JSA) (2000)', 'Crimson Rivers, The (Rivières pourpres, Les) (2000)', 'My Name Is Nobody (Il Mio nome è Nessuno) (1973)', 'Son of the Bride (Hijo de la novia, El) (2001)', 'Return of Martin Guerre, The (Retour de Martin Guerre, Le) (1982)', 'Lady Snowblood (Shurayukihime) (1973)', \"Snake in the Eagle's Shadow (Se ying diu sau) (1978)\", 'Infernal Affairs 2 (Mou gaan dou II) (2003)', 'Musa the Warrior (Musa) (2001)', 'Master of the Flying Guillotine (Du bi quan wang da po xue di zi) (1975)', 'Once a Thief (Zong heng si hai) (1991)', 'Lone Wolf and Cub: Baby Cart in Peril (Kozure Ôkami: Oya no kokoro ko no kokoro) (1972)', 'Attack the Gas Station! (Juyuso seubgyuksageun) (1999)', 'Bride Wore Black, The (La mariée était en noir) (1968)', 'Das Experiment (Experiment, The) (2001)', 'Boy in the Striped Pajamas, The (Boy in the Striped Pyjamas, The) (2008)', 'Boat That Rocked, The (a.k.a. Pirate Radio) (2009)', \"Adam's Apples (Adams æbler) (2005)\", 'Cell 211 (Celda 211) (2009)', 'Kikujiro (Kikujirô no natsu) (1999)', 'Kingdom, The (Riget) (1994)', 'Fawlty Towers (1975-1979)', 'Lovers of the Arctic Circle, The (Los Amantes del Círculo Polar) (1998)', 'Kingdom II, The (Riget II) (1997)', 'Seventh Continent, The (Der siebente Kontinent) (1989)', 'Town Called Panic, A (Panique au village) (2009)', 'Class, The (Klass) (2007)', 'My Voyage to Italy (Il mio viaggio in Italia) (1999)', 'Life is a Miracle (Zivot je cudo) (2004)', \"Ocean's Eleven (a.k.a. Ocean's 11) (1960)\", 'Inglorious Bastards (Quel maledetto treno blindato) (1978)', \"Legend of 1900, The (a.k.a. The Legend of the Pianist on the Ocean) (Leggenda del pianista sull'oceano) (1998)\", \"I'm Not Scared (Io non ho paura) (2003)\", 'He Loves Me... He Loves Me Not (À la folie... pas du tout) (2002)', 'Perfect Crime, The (Crimen Ferpecto) (Ferpect Crime) (2004)', 'Pulse (Kairo) (2001)', 'Memory of a Killer, The (Zaak Alzheimer, De) (2003)', 'Anatomy (Anatomie) (2000)', \"Crimson Rivers 2: Angels of the Apocalypse (Rivières pourpres II - Les anges de l'apocalypse, Les) (2004)\", 'Pure Formality, A (Pura formalità, Una) (1994)', 'Method, The (Método, El) (2005)', \"Fermat's Room (La habitación de Fermat) (2007)\", 'Green Street Hooligans (a.k.a. Hooligans) (2005)', \"Girl Who Kicked the Hornet's Nest, The (Luftslottet som sprängdes) (2009)\", 'Men in Black III (M.III.B.) (M.I.B.³) (2012)', \"Mesrine: Killer Instinct (L'instinct de mort) (2008)\", 'Sessions, The (Surrogate, The) (2012)', 'Oceans (Océans) (2009)', 'Celeste and Jesse Forever (Celeste & Jesse Forever) (2012)', 'Out of the Furnace (Dust to Dust) (Low Dweller, The) (2013)', 'Damage (Fatale) (1992)', 'Chorus, The (Choristes, Les) (2004)', 'Saving Silverman (Evil Woman) (2001)', \"Rory O'Shea Was Here (Inside I'm Dancing) (2004)\", 'Bound by Honor (a.k.a. Blood In, Blood Out) (1993)', 'Goal! The Dream Begins (Goal!) (2005)', 'Seducing Doctor Lewis (Grande séduction, La) (2003)', 'Young People Fucking (a.k.a. YPF) (2007)', 'Innocent Voices (Voces inocentes) (2004)', 'Fast & Furious 6 (Fast and the Furious 6, The) (2013)', 'Certified Copy (Copie conforme) (2010)', 'Oslo, August 31st (Oslo, 31. august) (2011)', 'Kitchen Stories (Salmer fra kjøkkenet) (2003)', 'Robot Carnival (Roboto kânibauru) (1987)', 'Closet, The (Placard, Le) (2001)', \"Mesrine: Public Enemy #1 (L'ennemi public n°1) (2008)\", 'Steam of Life (Miesten vuoro) (2010)', 'Dark Blue World (Tmavomodrý svet) (2001)', 'Kummeli Goldrush (Kummeli kultakuume) (1997)', 'Unknown Soldier, The (Tuntematon sotilas) (1985)', 'Mother of Mine (Äideistä parhain) (2005)', \"Love Me If You Dare (Jeux d'enfants) (2003)\", 'My Sassy Girl (Yeopgijeogin geunyeo) (2001)', \"Welcome to the Sticks (Bienvenue chez les Ch'tis) (2008)\", 'In July (Im Juli) (2000)', \"Happenstance (Battement d'ailes du papillon, Le) (2001)\", 'Flower of My Secret, The (La flor de mi secreto) (1995)', 'Fond Kiss, A (Ae Fond Kiss...) (2004)', 'Intimate Strangers (Confidences trop intimes) (2004)', 'Together (Han ni Zai Yiki) (2002)', 'Samaritan Girl (Samaria) (2004)', 'Santa Claus Is a Stinker (Le Père Noël est une ordure) (1982)', 'Divided We Fall (Musíme si pomáhat) (2000)', 'Unknown Soldier, The (Tuntematon sotilas) (1955)', 'Monsieur Ibrahim (Monsieur Ibrahim et les fleurs du Coran) (2003)', 'Samurai Fiction (SF: Episode One) (1998)', 'Isle, The (Seom) (2000)', 'Frozen Land (Paha maa) (2005)', 'Ambush (Rukajärven tie) (1999)', \"Himalaya (Himalaya - l'enfance d'un chef) (1999)\", 'High Heels (Tacones lejanos) (1991)', 'Lovers on the Bridge, The (Amants du Pont-Neuf, Les) (1991)', \"As If I Didn't Exist (Elina - Som om jag inte fanns) (2002)\", 'Page Turner, The (Tourneuse de pages, La) (2006)', 'Popular Music (Populärmusik från Vittula) (2004)', 'Pom Poko (a.k.a. Raccoon War, The) (Heisei tanuki gassen pompoko) (1994)', \"Agatha Christie's 'Ten Little Indians' (Ten Little Indians) (And Then There Were None) (1965)\", 'Big Bang Theory, The (2007-)', '2 Fast 2 Furious (Fast and the Furious 2, The) (2003)', 'Under the Same Moon (Misma luna, La) (2007)', 'Summer Storm (Sommersturm) (2004)', 'As it is in Heaven (Så som i himmelen) (2004)', 'Ax, The (couperet, Le) (2005)', 'Butterfly (La lengua de las mariposas) (1999)', 'DarkBlueAlmostBlack (Azuloscurocasinegro) (2006)', 'Serbian Film, A (Srpski film) (2010)', 'Irony of Fate, or Enjoy Your Bath! (Ironiya sudby, ili S legkim parom!) (1975)', 'Bad Guy (Nabbeun namja) (2001)', 'Facing Windows (Finestra di fronte, La) (2003)', 'Beijing Bicycle (Shiqi sui de dan che) (2001)', \"Last Kiss, The (Ultimo bacio, L') (2001)\", 'Red Cliff Part II (Chi Bi Xia: Jue Zhan Tian Xia) (2009)', 'Art of Negative Thinking, The (Kunsten å tenke negativt) (2006)', '36 Quai des Orfèvres (Department 36) (2004)', 'Best Offer, The (Migliore offerta, La) (2013)', 'Ready to Wear (Pret-A-Porter) (1994)', 'Arn: The Knight Templar (Arn - Tempelriddaren) (2007)', 'Riki-Oh: The Story of Ricky (Lik Wong) (1991)', 'Gigantic (A Tale of Two Johns) (2002)', 'After You (Après vous...) (2003)', 'Babies (Bébé(s)) (2010)', 'Victory (a.k.a. Escape to Victory) (1981)', 'Russian Dolls (Les poupées russes) (2005)', 'Tunnel, The (Tunnel, Der) (2001)', 'Anne of Green Gables: The Sequel (a.k.a. Anne of Avonlea) (1987)', 'Valentin (Valentín) (2002)', \"Herod's Law (Ley de Herodes, La) (2000)\", '5 Centimeters per Second (Byôsoku 5 senchimêtoru) (2007)', 'Heart of a Dog (Sobachye serdtse) (1988)', 'Voices of a Distant Star (Hoshi no koe) (2003)', 'Teddy Bear (Mis) (1981)', \"Vegas Vacation (National Lampoon's Las Vegas Vacation) (1997)\", 'Castaway on the Moon (Kimssi pyoryugi) (2009)', 'Greatest Movie Ever Sold, The (POM Wonderful Presents: The Greatest Movie Ever Sold) (2011)', 'In China They Eat Dogs (I Kina spiser de hunde) (1999)', 'Flickering Lights (Blinkende lygter) (2000)', 'Day of the Beast, The (Día de la Bestia, El) (1995)', 'Violent Cop (Sono otoko, kyôbô ni tsuki) (1989)', 'Point Blank (À bout portant) (2010)', 'Just Another Love Story (Kærlighed på film) (2007)', 'Man Who Copied, The (Homem Que Copiava, O) (2003)', 'Neon Genesis Evangelion: Death & Rebirth (Shin seiki Evangelion Gekijô-ban: Shito shinsei) (1997)', 'Blow Dry (a.k.a. Never Better) (2001)', 'North Face (Nordwand) (2008)', '187 (One Eight Seven) (1997)', '9 1/2 Weeks (Nine 1/2 Weeks) (1986)', 'King of Masks, The (Bian Lian) (1996)', 'Valet, The (La doublure) (2006)', \"Heartbreaker (L'Arnacoeur) (2010)\", 'My Best Friend (Mon meilleur ami) (2006)', 'Tiger and the Snow, The (La tigre e la neve) (2005)', 'Christiane F. (a.k.a. We Children from Bahnhof Zoo) (Christiane F. - Wir Kinder vom Bahnhof Zoo) (1981)', 'Ong-Bak 2: The Beginning (Ong Bak 2) (2008)', 'Thick as Thieves (a.k.a. Code, The) (2009)', 'Gentlemen of Fortune (Dzhentlmeny udachi) (1972)', 'Rabbit Without Ears (Keinohrhasen) (2007)', 'Ruby & Quentin (Tais-toi!) (2003)', 'American Pie Presents The Naked Mile (American Pie 5: The Naked Mile) (2006)', 'American Pie Presents: The Book of Love (American Pie 7: The Book of Love) (2009)']\n"
     ]
    }
   ],
   "source": [
    "non_numeric_titles = [\n",
    "    title for title in titles_df['title']\n",
    "    if re.search(r'\\((.*[^\\d].*)\\)', title)  # 숫자만으로 이루어지지 않은 내용을 찾음\n",
    "]\n",
    "\n",
    "# 결과 출력\n",
    "print(non_numeric_titles)"
   ]
  },
  {
   "cell_type": "code",
   "execution_count": 40,
   "metadata": {},
   "outputs": [],
   "source": [
    "matches = [item for item in non_numeric_titles if re.fullmatch(\".*\\(\\d+\\)\", item)]"
   ]
  },
  {
   "cell_type": "code",
   "execution_count": 41,
   "metadata": {},
   "outputs": [],
   "source": [
    "w = [x for x in non_numeric_titles if not x in matches]"
   ]
  },
  {
   "cell_type": "code",
   "execution_count": 42,
   "metadata": {},
   "outputs": [],
   "source": [
    "tmp = [re.sub(r'\\s*\\(\\d{4}\\)$', '', i) for i in matches]"
   ]
  },
  {
   "cell_type": "code",
   "execution_count": 43,
   "metadata": {},
   "outputs": [],
   "source": [
    "import torch"
   ]
  },
  {
   "cell_type": "code",
   "execution_count": 44,
   "metadata": {},
   "outputs": [
    {
     "name": "stderr",
     "output_type": "stream",
     "text": [
      "/opt/conda/lib/python3.10/site-packages/tqdm/auto.py:21: TqdmWarning: IProgress not found. Please update jupyter and ipywidgets. See https://ipywidgets.readthedocs.io/en/stable/user_install.html\n",
      "  from .autonotebook import tqdm as notebook_tqdm\n"
     ]
    }
   ],
   "source": [
    "from transformers import AutoTokenizer, AutoModel"
   ]
  },
  {
   "cell_type": "code",
   "execution_count": 45,
   "metadata": {},
   "outputs": [],
   "source": [
    "\n",
    "def text_to_vector(text, tokenizer, model):\n",
    "    # 텍스트를 토크나이징하고 텐서로 변환\n",
    "    tokenized = tokenizer(\n",
    "        text,\n",
    "        max_length=512,  # 최대 길이는 512로 설정\n",
    "        padding='max_length',  # 패딩 추가\n",
    "        truncation=True,  # 텍스트가 길면 자르기\n",
    "        return_tensors='pt'  # PyTorch 텐서 반환\n",
    "    ).to(model.device)  # 모델이 있는 디바이스로 이동\n",
    "    \n",
    "    # 모델의 출력 계산 (배치 크기가 1일 경우)\n",
    "    with torch.no_grad():\n",
    "        outputs = model(**tokenized)\n",
    "        # BERT 계열 모델은 [CLS] 토큰에 해당하는 첫 번째 벡터를 사용\n",
    "        # 다른 모델에서는 [CLS]에 해당하는 첫 번째 토큰을 선택\n",
    "        # outputs에 따라 다를 수 있으므로 모델의 종류에 맞게 처리\n",
    "        if isinstance(outputs, tuple):\n",
    "            # 일부 모델은 (logits, hidden states) 형태로 출력되므로\n",
    "            # hidden states만 사용\n",
    "            last_hidden_state = outputs[0]\n",
    "        else:\n",
    "            last_hidden_state = outputs.last_hidden_state\n",
    "        \n",
    "        # [CLS] 토큰은 첫 번째 위치에 있으므로 첫 번째 벡터를 선택\n",
    "        sentence_embedding = last_hidden_state[:, 0, :]\n",
    "    \n",
    "    # 결과 벡터 반환\n",
    "    return sentence_embedding.squeeze(0).cpu().detach().numpy()"
   ]
  },
  {
   "cell_type": "code",
   "execution_count": 46,
   "metadata": {},
   "outputs": [
    {
     "name": "stderr",
     "output_type": "stream",
     "text": [
      "/opt/conda/lib/python3.10/site-packages/torch/_utils.py:776: UserWarning: TypedStorage is deprecated. It will be removed in the future and UntypedStorage will be the only storage class. This should only matter to you if you are using storages directly.  To access UntypedStorage directly, use tensor.untyped_storage() instead of tensor.storage()\n",
      "  return self.fget.__get__(instance, owner)()\n"
     ]
    }
   ],
   "source": [
    "model_name = 'nlptown/bert-base-multilingual-uncased-sentiment'\n",
    "tokenizer = AutoTokenizer.from_pretrained(model_name)\n",
    "model = AutoModel.from_pretrained(model_name).to('cuda')  # GPU로 모델 이동"
   ]
  },
  {
   "cell_type": "code",
   "execution_count": 48,
   "metadata": {},
   "outputs": [],
   "source": [
    "import numpy as np"
   ]
  },
  {
   "cell_type": "code",
   "execution_count": 49,
   "metadata": {},
   "outputs": [
    {
     "data": {
      "text/plain": [
       "0.49172452"
      ]
     },
     "execution_count": 49,
     "metadata": {},
     "output_type": "execute_result"
    }
   ],
   "source": [
    "t1 = 'Sen to Chihiro no kamikakushi'\n",
    "t2 = 'Spirited Away'\n",
    "\n",
    "embedding1 = text_to_vector(t1, tokenizer, model)\n",
    "embedding2 = text_to_vector(t2, tokenizer, model)\n",
    "embedding1.dot(embedding2) / np.linalg.norm(embedding1) / np.linalg.norm(embedding2)"
   ]
  },
  {
   "cell_type": "code",
   "execution_count": null,
   "metadata": {},
   "outputs": [],
   "source": []
  }
 ],
 "metadata": {
  "kernelspec": {
   "display_name": "base",
   "language": "python",
   "name": "python3"
  },
  "language_info": {
   "codemirror_mode": {
    "name": "ipython",
    "version": 3
   },
   "file_extension": ".py",
   "mimetype": "text/x-python",
   "name": "python",
   "nbconvert_exporter": "python",
   "pygments_lexer": "ipython3",
   "version": "3.10.13"
  }
 },
 "nbformat": 4,
 "nbformat_minor": 2
}
