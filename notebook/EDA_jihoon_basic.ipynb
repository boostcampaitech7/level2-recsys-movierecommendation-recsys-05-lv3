{
 "cells": [
  {
   "cell_type": "code",
   "execution_count": null,
   "metadata": {},
   "outputs": [],
   "source": [
    "import pandas as pd\n",
    "import numpy as np\n",
    "from tqdm import tqdm\n",
    "import matplotlib.pyplot as plt\n",
    "import seaborn as sns"
   ]
  },
  {
   "cell_type": "code",
   "execution_count": null,
   "metadata": {},
   "outputs": [],
   "source": [
    "directors_df = pd.read_csv('../data/train/directors.tsv', sep='\\t') # 감독 정보\n",
    "genres_df = pd.read_csv('../data/train/genres.tsv', sep='\\t') # 장르 정보\n",
    "titles_df = pd.read_csv('../data/train/titles.tsv', sep='\\t') # 영화 제목 정보\n",
    "writers_df = pd.read_csv('../data/train/writers.tsv', sep='\\t') # 각본가 정보\n",
    "years_df = pd.read_csv('../data/train/years.tsv', sep='\\t') # 개봉 연도 정보\n",
    "\n",
    "train_df = pd.read_csv('../data/train/train_ratings.csv') # 전체 학습 데이터"
   ]
  },
  {
   "cell_type": "markdown",
   "metadata": {},
   "source": [
    "# directors_df EDA"
   ]
  },
  {
   "cell_type": "code",
   "execution_count": null,
   "metadata": {},
   "outputs": [],
   "source": [
    "# 기본 정보 확인\n",
    "print(directors_df.info())\n",
    "print(directors_df.head())\n",
    "\n",
    "# 결측치 확인\n",
    "print(directors_df.isnull().sum())\n",
    "\n",
    "# 중복 행 확인\n",
    "print(directors_df[directors_df.duplicated()])"
   ]
  },
  {
   "cell_type": "markdown",
   "metadata": {},
   "source": [
    "'directors_df'에는 결측치가 없다."
   ]
  },
  {
   "cell_type": "code",
   "execution_count": null,
   "metadata": {},
   "outputs": [],
   "source": [
    "# 고유 감독 수\n",
    "unique_directors = directors_df['director'].nunique()\n",
    "print(f\"Unique directors: {unique_directors}\")\n",
    "\n",
    "# 감독별 빈도\n",
    "director_counts = directors_df['director'].value_counts()\n",
    "print(director_counts.head(10))  # 상위 10명"
   ]
  },
  {
   "cell_type": "code",
   "execution_count": null,
   "metadata": {},
   "outputs": [],
   "source": [
    "# 감독 별 영화 수 계산\n",
    "movie_count_per_director = directors_df['director'].value_counts()  # 감독별 참여한 영화 수\n",
    "\n",
    "# 영화 수의 분포 계산\n",
    "movie_count_distribution = movie_count_per_director.value_counts().sort_index()\n",
    "\n",
    "# 시각화\n",
    "plt.figure(figsize=(10, 6))\n",
    "ax = movie_count_distribution.plot(kind='bar', width=0.8, color='skyblue')\n",
    "plt.title('Distribution of Movie Count per Director', fontsize=14)\n",
    "plt.xlabel('Number of Movies per Director', fontsize=12)\n",
    "plt.ylabel('Number of Direcors', fontsize=12)\n",
    "plt.xticks(rotation=0)\n",
    "plt.grid(axis='y', linestyle='--', alpha=0.7)\n",
    "\n",
    "# 막대 위에 개수 표시\n",
    "for i, count in enumerate(movie_count_distribution):\n",
    "    plt.text(i, count + 0.5, str(count), ha='center', fontsize=10)\n",
    "\n",
    "plt.tight_layout()\n",
    "plt.show()\n"
   ]
  },
  {
   "cell_type": "markdown",
   "metadata": {},
   "source": [
    "모든 감독이 최소 2개 이상의 영화에 참여했다."
   ]
  },
  {
   "cell_type": "code",
   "execution_count": null,
   "metadata": {},
   "outputs": [],
   "source": [
    "# 고유 영화 수 (directors_df)\n",
    "unique_items_directors_df = directors_df['item'].nunique()\n",
    "print(f\"Unique items (directors_df): {unique_items_directors_df}\")\n",
    "\n",
    "# 고유 영화 수 (training)\n",
    "unique_items_train_df = train_df['item'].nunique()\n",
    "print(f\"Unique items (training): {unique_items_train_df}\")\n",
    "\n",
    "# 영화별 감독 수\n",
    "items_counts = directors_df['item'].value_counts()\n",
    "print(director_counts.head(10))  # 상위 10명"
   ]
  },
  {
   "cell_type": "markdown",
   "metadata": {},
   "source": [
    "모든 영화에 감독 정보가 있는 것은 아님"
   ]
  },
  {
   "cell_type": "code",
   "execution_count": null,
   "metadata": {},
   "outputs": [],
   "source": [
    "# 영화별 감독 수 계산\n",
    "director_count_per_movie = directors_df['item'].value_counts()  # 영화별 참여한 감독 수\n",
    "\n",
    "# 감독 수의 분포 계산\n",
    "director_count_distribution = director_count_per_movie.value_counts().sort_index()\n",
    "\n",
    "# 시각화\n",
    "plt.figure(figsize=(10, 6))\n",
    "ax = director_count_distribution.plot(kind='bar', width=0.8, color='skyblue')\n",
    "plt.title('Distribution of Director Count per Movie', fontsize=14)\n",
    "plt.xlabel('Number of Directors per Movie', fontsize=12)\n",
    "plt.ylabel('Number of Movies', fontsize=12)\n",
    "plt.xticks(rotation=0)\n",
    "plt.grid(axis='y', linestyle='--', alpha=0.7)\n",
    "\n",
    "# 막대 위에 개수 표시\n",
    "for i, count in enumerate(director_count_distribution):\n",
    "    plt.text(i, count + 0.5, str(count), ha='center', fontsize=10)\n",
    "\n",
    "plt.tight_layout()\n",
    "plt.show()\n"
   ]
  },
  {
   "cell_type": "markdown",
   "metadata": {},
   "source": [
    "대부분의 영화는 감독이 한 명이다."
   ]
  },
  {
   "cell_type": "code",
   "execution_count": null,
   "metadata": {},
   "outputs": [],
   "source": [
    "directors_df[directors_df['item'] == 50912]"
   ]
  },
  {
   "cell_type": "code",
   "execution_count": null,
   "metadata": {},
   "outputs": [],
   "source": [
    "titles_df[titles_df['item'] == 50912]"
   ]
  },
  {
   "cell_type": "markdown",
   "metadata": {},
   "source": [
    "검색하니 앤솔로지 영화였다."
   ]
  },
  {
   "cell_type": "markdown",
   "metadata": {},
   "source": [
    "# genres_df EDA"
   ]
  },
  {
   "cell_type": "code",
   "execution_count": null,
   "metadata": {},
   "outputs": [],
   "source": [
    "# 기본 정보 확인\n",
    "print(genres_df.info())\n",
    "print(genres_df.head())\n",
    "\n",
    "# 결측치 확인\n",
    "print(genres_df.isnull().sum())\n",
    "\n",
    "# 중복 행 확인\n",
    "print(genres_df[genres_df.duplicated()])"
   ]
  },
  {
   "cell_type": "code",
   "execution_count": null,
   "metadata": {},
   "outputs": [],
   "source": [
    "# 장르별 영화 개수\n",
    "genre_counts = genres_df['genre'].value_counts()\n",
    "\n",
    "# 상위 10개 장르 확인\n",
    "print(genre_counts.head(10))\n"
   ]
  },
  {
   "cell_type": "markdown",
   "metadata": {},
   "source": [
    "장르의 조합의 빈도"
   ]
  },
  {
   "cell_type": "code",
   "execution_count": null,
   "metadata": {},
   "outputs": [],
   "source": [
    "from collections import Counter\n",
    "\n",
    "# 영화별 장르 리스트 생성\n",
    "movie_genres = genres_df.groupby('item')['genre'].apply(list)\n",
    "\n",
    "# 장르 리스트를 정렬된 튜플로 변환 (조합 비교를 위해)\n",
    "sorted_genre_combinations = movie_genres.apply(lambda x: tuple(sorted(x)))\n",
    "\n",
    "# 각 조합의 빈도 계산\n",
    "genre_combination_counts = Counter(sorted_genre_combinations)\n",
    "\n",
    "# 가장 많은 장르 조합 확인\n",
    "most_common_combinations = genre_combination_counts.most_common(20)  # 상위 10개\n",
    "print(\"Most common genre combinations:\")\n",
    "for combination, count in most_common_combinations:\n",
    "    print(f\"Genres: {combination}, Count: {count}\")\n"
   ]
  },
  {
   "cell_type": "markdown",
   "metadata": {},
   "source": [
    "2개의 장르 조합 빈도"
   ]
  },
  {
   "cell_type": "code",
   "execution_count": null,
   "metadata": {},
   "outputs": [],
   "source": [
    "from itertools import combinations\n",
    "from collections import Counter\n",
    "\n",
    "# 영화별 장르 리스트 생성\n",
    "movie_genres = genres_df.groupby('item')['genre'].apply(list)\n",
    "\n",
    "# 모든 영화에서 2개의 장르 조합 생성\n",
    "genre_combinations = []\n",
    "\n",
    "for genres in movie_genres:\n",
    "    if len(genres) >= 2:  # 장르가 2개 이상인 경우만 조합 생성\n",
    "        genre_combinations.extend(combinations(genres, 2))\n",
    "\n",
    "# 조합을 정렬하여 중복 제거\n",
    "sorted_genre_combinations = [tuple(sorted(comb)) for comb in genre_combinations]\n",
    "\n",
    "# 조합 빈도 계산\n",
    "combination_counts = Counter(sorted_genre_combinations)\n",
    "\n",
    "# 상위 10개 조합 출력\n",
    "print(\"Top 10 Genre Combinations:\")\n",
    "for combination, count in combination_counts.most_common(10):\n",
    "    print(f\"Combination: {combination}, Count: {count}\")\n"
   ]
  },
  {
   "cell_type": "code",
   "execution_count": null,
   "metadata": {},
   "outputs": [],
   "source": [
    "# 시각화\n",
    "plt.figure(figsize=(10, 6))\n",
    "genre_counts.plot(kind='bar', color='skyblue')\n",
    "plt.title('Number of Movies by Genre', fontsize=14)\n",
    "plt.xlabel('Genre', fontsize=12)\n",
    "plt.ylabel('Number of Movies', fontsize=12)\n",
    "plt.xticks(rotation=45)\n",
    "plt.grid(axis='y', linestyle='--', alpha=0.7)\n",
    "plt.tight_layout()\n",
    "plt.show()\n"
   ]
  },
  {
   "cell_type": "markdown",
   "metadata": {},
   "source": [
    "한 영화의 장르의 개수 분포"
   ]
  },
  {
   "cell_type": "code",
   "execution_count": null,
   "metadata": {},
   "outputs": [],
   "source": [
    "# 영화별 장르 수 계산\n",
    "genres_per_movie = genres_df.groupby('item')['genre'].count()\n",
    "\n",
    "# 분포 확인\n",
    "print(genres_per_movie.describe())\n",
    "\n",
    "# 시각화\n",
    "plt.figure(figsize=(10, 6))\n",
    "ax = genres_per_movie.value_counts().sort_index().plot(kind='bar', color='lightgreen')\n",
    "plt.title('Number of Genres per Movie', fontsize=14)\n",
    "plt.xlabel('Number of Genres', fontsize=12)\n",
    "plt.ylabel('Number of Movies', fontsize=12)\n",
    "plt.grid(axis='y', linestyle='--', alpha=0.7)\n",
    "\n",
    "# 막대 위에 개수 표시\n",
    "for i, count in enumerate(genres_per_movie.value_counts().sort_index()):\n",
    "    plt.text(i, count + 0.5, str(count), ha='center', fontsize=10)\n",
    "\n",
    "plt.tight_layout()\n",
    "plt.show()"
   ]
  },
  {
   "cell_type": "code",
   "execution_count": null,
   "metadata": {},
   "outputs": [],
   "source": [
    "genres_per_movie[genres_per_movie == 10]"
   ]
  },
  {
   "cell_type": "code",
   "execution_count": null,
   "metadata": {},
   "outputs": [],
   "source": [
    "titles_df[titles_df['item'] == 81132]"
   ]
  },
  {
   "cell_type": "markdown",
   "metadata": {},
   "source": [
    "# titles_df EDA"
   ]
  },
  {
   "cell_type": "code",
   "execution_count": null,
   "metadata": {},
   "outputs": [],
   "source": [
    "# 기본 정보 확인\n",
    "print(titles_df.info())\n",
    "print(titles_df.head())\n",
    "\n",
    "# 결측치 확인\n",
    "print(titles_df.isnull().sum())\n",
    "\n",
    "# 중복 행 확인\n",
    "print(titles_df[titles_df.duplicated()])"
   ]
  },
  {
   "cell_type": "markdown",
   "metadata": {},
   "source": [
    "# writes_df EDA"
   ]
  },
  {
   "cell_type": "code",
   "execution_count": null,
   "metadata": {},
   "outputs": [],
   "source": [
    "# 기본 정보 확인\n",
    "print(writers_df.info())\n",
    "print(writers_df.head())\n",
    "\n",
    "# 결측치 확인\n",
    "print(writers_df.isnull().sum())\n",
    "\n",
    "# 중복 행 확인\n",
    "print(writers_df[writers_df.duplicated()])"
   ]
  },
  {
   "cell_type": "code",
   "execution_count": null,
   "metadata": {},
   "outputs": [],
   "source": [
    "# 고유 작가 수\n",
    "unique_writers = writers_df['writer'].nunique()\n",
    "print(f\"Unique writers: {unique_writers}\")\n",
    "\n",
    "# 작가별 빈도\n",
    "writer_counts = writers_df['writer'].value_counts()\n",
    "print(writer_counts.head(10))  # 상위 10명"
   ]
  },
  {
   "cell_type": "code",
   "execution_count": null,
   "metadata": {},
   "outputs": [],
   "source": [
    "# 작가 별 영화 수 계산\n",
    "movie_count_per_writer = writers_df['writer'].value_counts()  # 작가별 참여한 영화 수\n",
    "\n",
    "# 영화 수의 분포 계산\n",
    "movie_count_distribution = movie_count_per_writer.value_counts().sort_index()\n",
    "\n",
    "# 시각화\n",
    "plt.figure(figsize=(10, 6))\n",
    "ax = movie_count_distribution.plot(kind='bar', width=0.8, color='skyblue')\n",
    "plt.title('Distribution of Movie Count per Writer', fontsize=14)\n",
    "plt.xlabel('Number of Movies per Writer', fontsize=12)\n",
    "plt.ylabel('Number of Writers', fontsize=12)\n",
    "plt.xticks(rotation=0)\n",
    "plt.grid(axis='y', linestyle='--', alpha=0.7)\n",
    "\n",
    "# 막대 위에 개수 표시\n",
    "for i, count in enumerate(movie_count_distribution):\n",
    "    plt.text(i, count + 0.5, str(count), ha='center', fontsize=10)\n",
    "\n",
    "plt.tight_layout()\n",
    "plt.show()\n"
   ]
  },
  {
   "cell_type": "markdown",
   "metadata": {},
   "source": [
    "모든 작가가 최소 2개 이상의 영화에 참여했다."
   ]
  },
  {
   "cell_type": "code",
   "execution_count": null,
   "metadata": {},
   "outputs": [],
   "source": [
    "# 고유 영화 수 (writers_df)\n",
    "unique_items_writers_df = writers_df['item'].nunique()\n",
    "print(f\"Unique items (writers_df): {unique_items_writers_df}\")\n",
    "\n",
    "# 고유 영화 수 (training)\n",
    "unique_items_train_df = train_df['item'].nunique()\n",
    "print(f\"Unique items (training): {unique_items_train_df}\")\n",
    "\n",
    "# 영화별 작가 수\n",
    "items_counts = writers_df['item'].value_counts()\n",
    "print(writer_counts.head(10))  # 상위 10명"
   ]
  },
  {
   "cell_type": "markdown",
   "metadata": {},
   "source": [
    "모든 영화에 작가 정보가 있는 것은 아님"
   ]
  },
  {
   "cell_type": "code",
   "execution_count": null,
   "metadata": {},
   "outputs": [],
   "source": [
    "# 영화별 작가 수 계산\n",
    "writer_count_per_movie = writers_df['item'].value_counts()  # 영화별 참여한 작가 수\n",
    "\n",
    "# 작가 수의 분포 계산\n",
    "writer_count_distribution = writer_count_per_movie.value_counts().sort_index()\n",
    "\n",
    "# 시각화\n",
    "plt.figure(figsize=(10, 6))\n",
    "ax = writer_count_distribution.plot(kind='bar', width=0.8, color='skyblue')\n",
    "plt.title('Distribution of Writer Count per Movie', fontsize=14)\n",
    "plt.xlabel('Number of Writer per Movie', fontsize=12)\n",
    "plt.ylabel('Number of Movies', fontsize=12)\n",
    "plt.xticks(rotation=0)\n",
    "plt.grid(axis='y', linestyle='--', alpha=0.7)\n",
    "\n",
    "# 막대 위에 개수 표시\n",
    "for i, count in enumerate(writer_count_distribution):\n",
    "    plt.text(i, count + 0.5, str(count), ha='center', fontsize=10)\n",
    "\n",
    "plt.tight_layout()\n",
    "plt.show()\n"
   ]
  },
  {
   "cell_type": "code",
   "execution_count": null,
   "metadata": {},
   "outputs": [],
   "source": [
    "writer_count_per_movie"
   ]
  },
  {
   "cell_type": "code",
   "execution_count": null,
   "metadata": {},
   "outputs": [],
   "source": [
    "writers_df[writers_df['item'] == 1907]"
   ]
  },
  {
   "cell_type": "code",
   "execution_count": null,
   "metadata": {},
   "outputs": [],
   "source": [
    "titles_df[titles_df['item'] == 1907]"
   ]
  },
  {
   "cell_type": "markdown",
   "metadata": {},
   "source": [
    "# years_df EDA"
   ]
  },
  {
   "cell_type": "code",
   "execution_count": null,
   "metadata": {},
   "outputs": [],
   "source": [
    "# 기본 정보 확인\n",
    "print(years_df.info())\n",
    "print(years_df.head())\n",
    "\n",
    "# 결측치 확인\n",
    "print(years_df.isnull().sum())\n",
    "\n",
    "# 중복 행 확인\n",
    "print(years_df[years_df.duplicated()])"
   ]
  },
  {
   "cell_type": "code",
   "execution_count": null,
   "metadata": {},
   "outputs": [],
   "source": [
    "year_counts = years_df['year'].value_counts().sort_index()\n",
    "print(year_counts)\n",
    "\n",
    "# 시각화\n",
    "plt.figure(figsize=(12, 6))\n",
    "year_counts.plot(kind='line', color='skyblue')\n",
    "plt.title('Number of Movies by Year', fontsize=14)\n",
    "plt.xlabel('Year', fontsize=12)\n",
    "plt.ylabel('Number of Movies', fontsize=12)\n",
    "plt.grid(axis='y', linestyle='--', alpha=0.7)\n",
    "plt.tight_layout()\n",
    "plt.show()\n"
   ]
  }
 ],
 "metadata": {
  "kernelspec": {
   "display_name": "prac",
   "language": "python",
   "name": "python3"
  },
  "language_info": {
   "codemirror_mode": {
    "name": "ipython",
    "version": 3
   },
   "file_extension": ".py",
   "mimetype": "text/x-python",
   "name": "python",
   "nbconvert_exporter": "python",
   "pygments_lexer": "ipython3",
   "version": "3.9.20"
  }
 },
 "nbformat": 4,
 "nbformat_minor": 2
}
